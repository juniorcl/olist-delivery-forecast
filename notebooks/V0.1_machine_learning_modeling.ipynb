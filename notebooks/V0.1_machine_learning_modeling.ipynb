{
 "cells": [
  {
   "cell_type": "markdown",
   "id": "11a377e1-2177-4bc1-b25a-fcca64ffd492",
   "metadata": {},
   "source": [
    "# Imports"
   ]
  },
  {
   "cell_type": "code",
   "execution_count": 1,
   "id": "a98c096f-b35a-440c-b734-a75d46740a30",
   "metadata": {},
   "outputs": [
    {
     "name": "stderr",
     "output_type": "stream",
     "text": [
      "IProgress not found. Please update jupyter and ipywidgets. See https://ipywidgets.readthedocs.io/en/stable/user_install.html\n"
     ]
    }
   ],
   "source": [
    "import shap\n",
    "import optuna\n",
    "\n",
    "import numpy   as np\n",
    "import pandas  as pd\n",
    "import seaborn as sns\n",
    "import category_encoders as ce\n",
    "\n",
    "import matplotlib.pyplot as plt\n",
    "\n",
    "from xgboost  import XGBRegressor\n",
    "from lightgbm import LGBMRegressor\n",
    "from catboost import CatBoostRegressor\n",
    "\n",
    "from feature_engine import encoding\n",
    "from feature_engine import creation\n",
    "from feature_engine import selection\n",
    "from feature_engine import imputation\n",
    "\n",
    "from sklearn.metrics           import r2_score, mean_absolute_error, mean_squared_error, mean_absolute_percentage_error\n",
    "from sklearn.feature_selection import SelectFromModel"
   ]
  },
  {
   "cell_type": "markdown",
   "id": "25db31c5-6ee8-43b8-8120-3350cc1cbb47",
   "metadata": {},
   "source": [
    "## Functions"
   ]
  },
  {
   "cell_type": "code",
   "execution_count": 2,
   "id": "4c5d7797-4eb7-402c-aa43-15a8432f6096",
   "metadata": {},
   "outputs": [],
   "source": [
    "random_state = 42\n",
    "np.random.seed(random_state)"
   ]
  },
  {
   "cell_type": "code",
   "execution_count": 3,
   "id": "cb82f386-4c26-4533-8ee1-64cbcb279994",
   "metadata": {},
   "outputs": [],
   "source": [
    "def jupyter_settings():\n",
    "    \n",
    "    pd.options.display.max_columns = None\n",
    "    pd.options.display.max_rows = 500\n",
    "\n",
    "jupyter_settings()"
   ]
  },
  {
   "cell_type": "code",
   "execution_count": 4,
   "id": "571a9822-ea2b-4bbe-81dc-e4ba20fd7062",
   "metadata": {},
   "outputs": [],
   "source": [
    "def get_metrics(y_true, y_pred):\n",
    "\n",
    "    r2 = r2_score(y_true, y_pred)\n",
    "    rmse = mean_squared_error(y_true, y_pred, squared=False)\n",
    "    mae = mean_absolute_error(y_true, y_pred)\n",
    "    mape = mean_absolute_percentage_error(y_true, y_pred)\n",
    "\n",
    "    print(f\"R2: {r2}; RMSE: {rmse}; MAE: {mae}; MAPE: {mape}\")"
   ]
  },
  {
   "cell_type": "markdown",
   "id": "30e8840f-f1f2-470e-841c-217ef8c9613b",
   "metadata": {},
   "source": [
    "# Loading Datasets"
   ]
  },
  {
   "cell_type": "code",
   "execution_count": 5,
   "id": "1827aed0-3b92-4033-af88-a5e958f123a4",
   "metadata": {},
   "outputs": [],
   "source": [
    "df_train = pd.read_parquet('../data/processed/V0.1_dataframe_train.parquet')\n",
    "df_valid = pd.read_parquet('../data/processed/V0.1_dataframe_valid.parquet')\n",
    "df_oot = pd.read_parquet('../data/processed/V0.1_dataframe_oot.parquet')"
   ]
  },
  {
   "cell_type": "markdown",
   "id": "0e16b273-6d12-4a83-8540-d1cf622cfff1",
   "metadata": {},
   "source": [
    "## Columns"
   ]
  },
  {
   "cell_type": "code",
   "execution_count": 6,
   "id": "eb74ebd2-0df6-4144-82c9-853de28f0e76",
   "metadata": {
    "scrolled": true
   },
   "outputs": [
    {
     "data": {
      "text/plain": [
       "['order_purchase_timestamp',\n",
       " 'order_delivered_customer_date',\n",
       " 'order_estimated_delivery_date',\n",
       " 'customer_zip_code_prefix',\n",
       " 'customer_city',\n",
       " 'customer_state',\n",
       " 'customer_lat',\n",
       " 'customer_lng',\n",
       " 'seller_geolocation_city_count',\n",
       " 'seller_geolocation_city_nunique',\n",
       " 'seller_geolocation_city_size',\n",
       " 'seller_geolocation_city_mode',\n",
       " 'seller_geolocation_state_count',\n",
       " 'seller_geolocation_state_nunique',\n",
       " 'seller_geolocation_state_size',\n",
       " 'seller_geolocation_state_mode',\n",
       " 'distance_customer_seller_count',\n",
       " 'distance_customer_seller_min',\n",
       " 'distance_customer_seller_max',\n",
       " 'distance_customer_seller_mean',\n",
       " 'distance_customer_seller_median',\n",
       " 'distance_customer_seller_q25',\n",
       " 'distance_customer_seller_q75',\n",
       " 'distance_customer_seller_range',\n",
       " 'payment_sequential_count',\n",
       " 'payment_sequential_min',\n",
       " 'payment_sequential_max',\n",
       " 'payment_sequential_mean',\n",
       " 'payment_sequential_median',\n",
       " 'payment_sequential_q25',\n",
       " 'payment_sequential_q75',\n",
       " 'payment_sequential_range',\n",
       " 'payment_type_count',\n",
       " 'payment_type_nunique',\n",
       " 'payment_type_size',\n",
       " 'payment_type_mode',\n",
       " 'payment_installments_count',\n",
       " 'payment_installments_min',\n",
       " 'payment_installments_max',\n",
       " 'payment_installments_mean',\n",
       " 'payment_installments_median',\n",
       " 'payment_installments_q25',\n",
       " 'payment_installments_q75',\n",
       " 'payment_installments_range',\n",
       " 'payment_value_count',\n",
       " 'payment_value_min',\n",
       " 'payment_value_max',\n",
       " 'payment_value_mean',\n",
       " 'payment_value_median',\n",
       " 'payment_value_q25',\n",
       " 'payment_value_q75',\n",
       " 'payment_value_range',\n",
       " 'product_id_count',\n",
       " 'seller_id_count',\n",
       " 'price_count',\n",
       " 'price_min',\n",
       " 'price_max',\n",
       " 'price_mean',\n",
       " 'price_median',\n",
       " 'price_q25',\n",
       " 'price_q75',\n",
       " 'price_range',\n",
       " 'freight_value_count',\n",
       " 'freight_value_min',\n",
       " 'freight_value_max',\n",
       " 'freight_value_mean',\n",
       " 'freight_value_median',\n",
       " 'freight_value_q25',\n",
       " 'freight_value_q75',\n",
       " 'freight_value_range',\n",
       " 'product_category_name_count',\n",
       " 'product_category_name_nunique',\n",
       " 'product_category_name_size',\n",
       " 'product_category_name_mode',\n",
       " 'product_name_lenght_count',\n",
       " 'product_name_lenght_min',\n",
       " 'product_name_lenght_max',\n",
       " 'product_name_lenght_mean',\n",
       " 'product_name_lenght_median',\n",
       " 'product_name_lenght_q25',\n",
       " 'product_name_lenght_q75',\n",
       " 'product_name_lenght_range',\n",
       " 'product_description_lenght_count',\n",
       " 'product_description_lenght_min',\n",
       " 'product_description_lenght_max',\n",
       " 'product_description_lenght_mean',\n",
       " 'product_description_lenght_median',\n",
       " 'product_description_lenght_q25',\n",
       " 'product_description_lenght_q75',\n",
       " 'product_description_lenght_range',\n",
       " 'product_photos_qty_count',\n",
       " 'product_photos_qty_min',\n",
       " 'product_photos_qty_max',\n",
       " 'product_photos_qty_mean',\n",
       " 'product_photos_qty_median',\n",
       " 'product_photos_qty_q25',\n",
       " 'product_photos_qty_q75',\n",
       " 'product_photos_qty_range',\n",
       " 'product_weight_g_count',\n",
       " 'product_weight_g_min',\n",
       " 'product_weight_g_max',\n",
       " 'product_weight_g_mean',\n",
       " 'product_weight_g_median',\n",
       " 'product_weight_g_q25',\n",
       " 'product_weight_g_q75',\n",
       " 'product_weight_g_range',\n",
       " 'product_length_cm_count',\n",
       " 'product_length_cm_min',\n",
       " 'product_length_cm_max',\n",
       " 'product_length_cm_mean',\n",
       " 'product_length_cm_median',\n",
       " 'product_length_cm_q25',\n",
       " 'product_length_cm_q75',\n",
       " 'product_length_cm_range',\n",
       " 'product_height_cm_count',\n",
       " 'product_height_cm_min',\n",
       " 'product_height_cm_max',\n",
       " 'product_height_cm_mean',\n",
       " 'product_height_cm_median',\n",
       " 'product_height_cm_q25',\n",
       " 'product_height_cm_q75',\n",
       " 'product_height_cm_range',\n",
       " 'product_width_cm_count',\n",
       " 'product_width_cm_min',\n",
       " 'product_width_cm_max',\n",
       " 'product_width_cm_mean',\n",
       " 'product_width_cm_median',\n",
       " 'product_width_cm_q25',\n",
       " 'product_width_cm_q75',\n",
       " 'product_width_cm_range',\n",
       " 'order_purchase_until_approved_in_seconds',\n",
       " 'order_purchase_until_approved_in_minutes',\n",
       " 'order_purchase_until_approved_in_hours',\n",
       " 'order_purchase_until_approved_in_days',\n",
       " 'order_purchase_timestamp_second',\n",
       " 'order_purchase_timestamp_minute',\n",
       " 'order_purchase_timestamp_hour',\n",
       " 'order_purchase_timestamp_day',\n",
       " 'order_purchase_timestamp_month',\n",
       " 'order_approved_at_second',\n",
       " 'order_approved_at_minute',\n",
       " 'order_approved_at_hour',\n",
       " 'order_approved_at_day',\n",
       " 'order_approved_at_month',\n",
       " 'delivered_in_days',\n",
       " 'estimated_delivery_in_days',\n",
       " 'time']"
      ]
     },
     "execution_count": 6,
     "metadata": {},
     "output_type": "execute_result"
    }
   ],
   "source": [
    "df_train.columns.tolist()"
   ]
  },
  {
   "cell_type": "code",
   "execution_count": 7,
   "id": "8f055937-6bc1-41ea-b472-d0cc915e0426",
   "metadata": {
    "scrolled": true
   },
   "outputs": [
    {
     "data": {
      "text/plain": [
       "['order_purchase_timestamp',\n",
       " 'order_delivered_customer_date',\n",
       " 'order_estimated_delivery_date',\n",
       " 'customer_zip_code_prefix',\n",
       " 'customer_city',\n",
       " 'customer_state',\n",
       " 'customer_lat',\n",
       " 'customer_lng',\n",
       " 'seller_geolocation_city_count',\n",
       " 'seller_geolocation_city_nunique',\n",
       " 'seller_geolocation_city_size',\n",
       " 'seller_geolocation_city_mode',\n",
       " 'seller_geolocation_state_count',\n",
       " 'seller_geolocation_state_nunique',\n",
       " 'seller_geolocation_state_size',\n",
       " 'seller_geolocation_state_mode',\n",
       " 'distance_customer_seller_count',\n",
       " 'distance_customer_seller_min',\n",
       " 'distance_customer_seller_max',\n",
       " 'distance_customer_seller_mean',\n",
       " 'distance_customer_seller_median',\n",
       " 'distance_customer_seller_q25',\n",
       " 'distance_customer_seller_q75',\n",
       " 'distance_customer_seller_range',\n",
       " 'payment_sequential_count',\n",
       " 'payment_sequential_min',\n",
       " 'payment_sequential_max',\n",
       " 'payment_sequential_mean',\n",
       " 'payment_sequential_median',\n",
       " 'payment_sequential_q25',\n",
       " 'payment_sequential_q75',\n",
       " 'payment_sequential_range',\n",
       " 'payment_type_count',\n",
       " 'payment_type_nunique',\n",
       " 'payment_type_size',\n",
       " 'payment_type_mode',\n",
       " 'payment_installments_count',\n",
       " 'payment_installments_min',\n",
       " 'payment_installments_max',\n",
       " 'payment_installments_mean',\n",
       " 'payment_installments_median',\n",
       " 'payment_installments_q25',\n",
       " 'payment_installments_q75',\n",
       " 'payment_installments_range',\n",
       " 'payment_value_count',\n",
       " 'payment_value_min',\n",
       " 'payment_value_max',\n",
       " 'payment_value_mean',\n",
       " 'payment_value_median',\n",
       " 'payment_value_q25',\n",
       " 'payment_value_q75',\n",
       " 'payment_value_range',\n",
       " 'product_id_count',\n",
       " 'seller_id_count',\n",
       " 'price_count',\n",
       " 'price_min',\n",
       " 'price_max',\n",
       " 'price_mean',\n",
       " 'price_median',\n",
       " 'price_q25',\n",
       " 'price_q75',\n",
       " 'price_range',\n",
       " 'freight_value_count',\n",
       " 'freight_value_min',\n",
       " 'freight_value_max',\n",
       " 'freight_value_mean',\n",
       " 'freight_value_median',\n",
       " 'freight_value_q25',\n",
       " 'freight_value_q75',\n",
       " 'freight_value_range',\n",
       " 'product_category_name_count',\n",
       " 'product_category_name_nunique',\n",
       " 'product_category_name_size',\n",
       " 'product_category_name_mode',\n",
       " 'product_name_lenght_count',\n",
       " 'product_name_lenght_min',\n",
       " 'product_name_lenght_max',\n",
       " 'product_name_lenght_mean',\n",
       " 'product_name_lenght_median',\n",
       " 'product_name_lenght_q25',\n",
       " 'product_name_lenght_q75',\n",
       " 'product_name_lenght_range',\n",
       " 'product_description_lenght_count',\n",
       " 'product_description_lenght_min',\n",
       " 'product_description_lenght_max',\n",
       " 'product_description_lenght_mean',\n",
       " 'product_description_lenght_median',\n",
       " 'product_description_lenght_q25',\n",
       " 'product_description_lenght_q75',\n",
       " 'product_description_lenght_range',\n",
       " 'product_photos_qty_count',\n",
       " 'product_photos_qty_min',\n",
       " 'product_photos_qty_max',\n",
       " 'product_photos_qty_mean',\n",
       " 'product_photos_qty_median',\n",
       " 'product_photos_qty_q25',\n",
       " 'product_photos_qty_q75',\n",
       " 'product_photos_qty_range',\n",
       " 'product_weight_g_count',\n",
       " 'product_weight_g_min',\n",
       " 'product_weight_g_max',\n",
       " 'product_weight_g_mean',\n",
       " 'product_weight_g_median',\n",
       " 'product_weight_g_q25',\n",
       " 'product_weight_g_q75',\n",
       " 'product_weight_g_range',\n",
       " 'product_length_cm_count',\n",
       " 'product_length_cm_min',\n",
       " 'product_length_cm_max',\n",
       " 'product_length_cm_mean',\n",
       " 'product_length_cm_median',\n",
       " 'product_length_cm_q25',\n",
       " 'product_length_cm_q75',\n",
       " 'product_length_cm_range',\n",
       " 'product_height_cm_count',\n",
       " 'product_height_cm_min',\n",
       " 'product_height_cm_max',\n",
       " 'product_height_cm_mean',\n",
       " 'product_height_cm_median',\n",
       " 'product_height_cm_q25',\n",
       " 'product_height_cm_q75',\n",
       " 'product_height_cm_range',\n",
       " 'product_width_cm_count',\n",
       " 'product_width_cm_min',\n",
       " 'product_width_cm_max',\n",
       " 'product_width_cm_mean',\n",
       " 'product_width_cm_median',\n",
       " 'product_width_cm_q25',\n",
       " 'product_width_cm_q75',\n",
       " 'product_width_cm_range',\n",
       " 'order_purchase_until_approved_in_seconds',\n",
       " 'order_purchase_until_approved_in_minutes',\n",
       " 'order_purchase_until_approved_in_hours',\n",
       " 'order_purchase_until_approved_in_days',\n",
       " 'order_purchase_timestamp_second',\n",
       " 'order_purchase_timestamp_minute',\n",
       " 'order_purchase_timestamp_hour',\n",
       " 'order_purchase_timestamp_day',\n",
       " 'order_purchase_timestamp_month',\n",
       " 'order_approved_at_second',\n",
       " 'order_approved_at_minute',\n",
       " 'order_approved_at_hour',\n",
       " 'order_approved_at_day',\n",
       " 'order_approved_at_month',\n",
       " 'delivered_in_days',\n",
       " 'estimated_delivery_in_days',\n",
       " 'time']"
      ]
     },
     "execution_count": 7,
     "metadata": {},
     "output_type": "execute_result"
    }
   ],
   "source": [
    "df_valid.columns.tolist()"
   ]
  },
  {
   "cell_type": "code",
   "execution_count": 8,
   "id": "f0f2c983-6bb0-4888-a725-a5091bafeb1d",
   "metadata": {
    "scrolled": true
   },
   "outputs": [
    {
     "data": {
      "text/plain": [
       "['order_purchase_timestamp',\n",
       " 'order_delivered_customer_date',\n",
       " 'order_estimated_delivery_date',\n",
       " 'customer_zip_code_prefix',\n",
       " 'customer_city',\n",
       " 'customer_state',\n",
       " 'customer_lat',\n",
       " 'customer_lng',\n",
       " 'seller_geolocation_city_count',\n",
       " 'seller_geolocation_city_nunique',\n",
       " 'seller_geolocation_city_size',\n",
       " 'seller_geolocation_city_mode',\n",
       " 'seller_geolocation_state_count',\n",
       " 'seller_geolocation_state_nunique',\n",
       " 'seller_geolocation_state_size',\n",
       " 'seller_geolocation_state_mode',\n",
       " 'distance_customer_seller_count',\n",
       " 'distance_customer_seller_min',\n",
       " 'distance_customer_seller_max',\n",
       " 'distance_customer_seller_mean',\n",
       " 'distance_customer_seller_median',\n",
       " 'distance_customer_seller_q25',\n",
       " 'distance_customer_seller_q75',\n",
       " 'distance_customer_seller_range',\n",
       " 'payment_sequential_count',\n",
       " 'payment_sequential_min',\n",
       " 'payment_sequential_max',\n",
       " 'payment_sequential_mean',\n",
       " 'payment_sequential_median',\n",
       " 'payment_sequential_q25',\n",
       " 'payment_sequential_q75',\n",
       " 'payment_sequential_range',\n",
       " 'payment_type_count',\n",
       " 'payment_type_nunique',\n",
       " 'payment_type_size',\n",
       " 'payment_type_mode',\n",
       " 'payment_installments_count',\n",
       " 'payment_installments_min',\n",
       " 'payment_installments_max',\n",
       " 'payment_installments_mean',\n",
       " 'payment_installments_median',\n",
       " 'payment_installments_q25',\n",
       " 'payment_installments_q75',\n",
       " 'payment_installments_range',\n",
       " 'payment_value_count',\n",
       " 'payment_value_min',\n",
       " 'payment_value_max',\n",
       " 'payment_value_mean',\n",
       " 'payment_value_median',\n",
       " 'payment_value_q25',\n",
       " 'payment_value_q75',\n",
       " 'payment_value_range',\n",
       " 'product_id_count',\n",
       " 'seller_id_count',\n",
       " 'price_count',\n",
       " 'price_min',\n",
       " 'price_max',\n",
       " 'price_mean',\n",
       " 'price_median',\n",
       " 'price_q25',\n",
       " 'price_q75',\n",
       " 'price_range',\n",
       " 'freight_value_count',\n",
       " 'freight_value_min',\n",
       " 'freight_value_max',\n",
       " 'freight_value_mean',\n",
       " 'freight_value_median',\n",
       " 'freight_value_q25',\n",
       " 'freight_value_q75',\n",
       " 'freight_value_range',\n",
       " 'product_category_name_count',\n",
       " 'product_category_name_nunique',\n",
       " 'product_category_name_size',\n",
       " 'product_category_name_mode',\n",
       " 'product_name_lenght_count',\n",
       " 'product_name_lenght_min',\n",
       " 'product_name_lenght_max',\n",
       " 'product_name_lenght_mean',\n",
       " 'product_name_lenght_median',\n",
       " 'product_name_lenght_q25',\n",
       " 'product_name_lenght_q75',\n",
       " 'product_name_lenght_range',\n",
       " 'product_description_lenght_count',\n",
       " 'product_description_lenght_min',\n",
       " 'product_description_lenght_max',\n",
       " 'product_description_lenght_mean',\n",
       " 'product_description_lenght_median',\n",
       " 'product_description_lenght_q25',\n",
       " 'product_description_lenght_q75',\n",
       " 'product_description_lenght_range',\n",
       " 'product_photos_qty_count',\n",
       " 'product_photos_qty_min',\n",
       " 'product_photos_qty_max',\n",
       " 'product_photos_qty_mean',\n",
       " 'product_photos_qty_median',\n",
       " 'product_photos_qty_q25',\n",
       " 'product_photos_qty_q75',\n",
       " 'product_photos_qty_range',\n",
       " 'product_weight_g_count',\n",
       " 'product_weight_g_min',\n",
       " 'product_weight_g_max',\n",
       " 'product_weight_g_mean',\n",
       " 'product_weight_g_median',\n",
       " 'product_weight_g_q25',\n",
       " 'product_weight_g_q75',\n",
       " 'product_weight_g_range',\n",
       " 'product_length_cm_count',\n",
       " 'product_length_cm_min',\n",
       " 'product_length_cm_max',\n",
       " 'product_length_cm_mean',\n",
       " 'product_length_cm_median',\n",
       " 'product_length_cm_q25',\n",
       " 'product_length_cm_q75',\n",
       " 'product_length_cm_range',\n",
       " 'product_height_cm_count',\n",
       " 'product_height_cm_min',\n",
       " 'product_height_cm_max',\n",
       " 'product_height_cm_mean',\n",
       " 'product_height_cm_median',\n",
       " 'product_height_cm_q25',\n",
       " 'product_height_cm_q75',\n",
       " 'product_height_cm_range',\n",
       " 'product_width_cm_count',\n",
       " 'product_width_cm_min',\n",
       " 'product_width_cm_max',\n",
       " 'product_width_cm_mean',\n",
       " 'product_width_cm_median',\n",
       " 'product_width_cm_q25',\n",
       " 'product_width_cm_q75',\n",
       " 'product_width_cm_range',\n",
       " 'order_purchase_until_approved_in_seconds',\n",
       " 'order_purchase_until_approved_in_minutes',\n",
       " 'order_purchase_until_approved_in_hours',\n",
       " 'order_purchase_until_approved_in_days',\n",
       " 'order_purchase_timestamp_second',\n",
       " 'order_purchase_timestamp_minute',\n",
       " 'order_purchase_timestamp_hour',\n",
       " 'order_purchase_timestamp_day',\n",
       " 'order_purchase_timestamp_month',\n",
       " 'order_approved_at_second',\n",
       " 'order_approved_at_minute',\n",
       " 'order_approved_at_hour',\n",
       " 'order_approved_at_day',\n",
       " 'order_approved_at_month',\n",
       " 'delivered_in_days',\n",
       " 'estimated_delivery_in_days',\n",
       " 'time']"
      ]
     },
     "execution_count": 8,
     "metadata": {},
     "output_type": "execute_result"
    }
   ],
   "source": [
    "df_oot.columns.tolist()"
   ]
  },
  {
   "cell_type": "markdown",
   "id": "31f1d647-94b5-4df2-becb-8c77752f243a",
   "metadata": {},
   "source": [
    "## Data Dimensions"
   ]
  },
  {
   "cell_type": "code",
   "execution_count": 9,
   "id": "a05a2ee0-cd3e-4a78-a03e-7c855b9a8303",
   "metadata": {},
   "outputs": [
    {
     "name": "stdout",
     "output_type": "stream",
     "text": [
      "Number of Rows: 52161\n",
      "Number of Cols: 147\n"
     ]
    }
   ],
   "source": [
    "print('Number of Rows: {}'.format(df_train.shape[0]))\n",
    "print('Number of Cols: {}'.format(df_train.shape[1]))"
   ]
  },
  {
   "cell_type": "code",
   "execution_count": 10,
   "id": "ab3d1660-b98e-412e-bd2d-7d3b942b0dfc",
   "metadata": {},
   "outputs": [
    {
     "name": "stdout",
     "output_type": "stream",
     "text": [
      "Number of Rows: 25692\n",
      "Number of Cols: 147\n"
     ]
    }
   ],
   "source": [
    "print('Number of Rows: {}'.format(df_valid.shape[0]))\n",
    "print('Number of Cols: {}'.format(df_valid.shape[1]))"
   ]
  },
  {
   "cell_type": "code",
   "execution_count": 11,
   "id": "b7ed449e-4543-4466-8a98-f530a8955fe0",
   "metadata": {},
   "outputs": [
    {
     "name": "stdout",
     "output_type": "stream",
     "text": [
      "Number of Rows: 18603\n",
      "Number of Cols: 147\n"
     ]
    }
   ],
   "source": [
    "print('Number of Rows: {}'.format(df_oot.shape[0]))\n",
    "print('Number of Cols: {}'.format(df_oot.shape[1]))"
   ]
  },
  {
   "cell_type": "markdown",
   "id": "4d2c9731-f2b5-4be7-8e69-5cb45cb9ef50",
   "metadata": {},
   "source": [
    "## Data Types"
   ]
  },
  {
   "cell_type": "code",
   "execution_count": 12,
   "id": "39c589cd-6017-4f6c-85ba-4125aa419760",
   "metadata": {
    "scrolled": true
   },
   "outputs": [
    {
     "data": {
      "text/plain": [
       "order_purchase_timestamp                    datetime64[ns]\n",
       "order_delivered_customer_date               datetime64[ns]\n",
       "order_estimated_delivery_date               datetime64[ns]\n",
       "customer_zip_code_prefix                            object\n",
       "customer_city                                       object\n",
       "customer_state                                      object\n",
       "customer_lat                                       float64\n",
       "customer_lng                                       float64\n",
       "seller_geolocation_city_count                        int64\n",
       "seller_geolocation_city_nunique                      int64\n",
       "seller_geolocation_city_size                         int64\n",
       "seller_geolocation_city_mode                        object\n",
       "seller_geolocation_state_count                       int64\n",
       "seller_geolocation_state_nunique                     int64\n",
       "seller_geolocation_state_size                        int64\n",
       "seller_geolocation_state_mode                       object\n",
       "distance_customer_seller_count                       int64\n",
       "distance_customer_seller_min                       float64\n",
       "distance_customer_seller_max                       float64\n",
       "distance_customer_seller_mean                      float64\n",
       "distance_customer_seller_median                    float64\n",
       "distance_customer_seller_q25                       float64\n",
       "distance_customer_seller_q75                       float64\n",
       "distance_customer_seller_range                     float64\n",
       "payment_sequential_count                           float64\n",
       "payment_sequential_min                             float64\n",
       "payment_sequential_max                             float64\n",
       "payment_sequential_mean                            float64\n",
       "payment_sequential_median                          float64\n",
       "payment_sequential_q25                             float64\n",
       "payment_sequential_q75                             float64\n",
       "payment_sequential_range                           float64\n",
       "payment_type_count                                 float64\n",
       "payment_type_nunique                               float64\n",
       "payment_type_size                                  float64\n",
       "payment_type_mode                                   object\n",
       "payment_installments_count                         float64\n",
       "payment_installments_min                           float64\n",
       "payment_installments_max                           float64\n",
       "payment_installments_mean                          float64\n",
       "payment_installments_median                        float64\n",
       "payment_installments_q25                           float64\n",
       "payment_installments_q75                           float64\n",
       "payment_installments_range                         float64\n",
       "payment_value_count                                float64\n",
       "payment_value_min                                  float64\n",
       "payment_value_max                                  float64\n",
       "payment_value_mean                                 float64\n",
       "payment_value_median                               float64\n",
       "payment_value_q25                                  float64\n",
       "payment_value_q75                                  float64\n",
       "payment_value_range                                float64\n",
       "product_id_count                                   float64\n",
       "seller_id_count                                    float64\n",
       "price_count                                        float64\n",
       "price_min                                          float64\n",
       "price_max                                          float64\n",
       "price_mean                                         float64\n",
       "price_median                                       float64\n",
       "price_q25                                          float64\n",
       "price_q75                                          float64\n",
       "price_range                                        float64\n",
       "freight_value_count                                float64\n",
       "freight_value_min                                  float64\n",
       "freight_value_max                                  float64\n",
       "freight_value_mean                                 float64\n",
       "freight_value_median                               float64\n",
       "freight_value_q25                                  float64\n",
       "freight_value_q75                                  float64\n",
       "freight_value_range                                float64\n",
       "product_category_name_count                        float64\n",
       "product_category_name_nunique                      float64\n",
       "product_category_name_size                         float64\n",
       "product_category_name_mode                          object\n",
       "product_name_lenght_count                          float64\n",
       "product_name_lenght_min                            float64\n",
       "product_name_lenght_max                            float64\n",
       "product_name_lenght_mean                           float64\n",
       "product_name_lenght_median                         float64\n",
       "product_name_lenght_q25                            float64\n",
       "product_name_lenght_q75                            float64\n",
       "product_name_lenght_range                          float64\n",
       "product_description_lenght_count                   float64\n",
       "product_description_lenght_min                     float64\n",
       "product_description_lenght_max                     float64\n",
       "product_description_lenght_mean                    float64\n",
       "product_description_lenght_median                  float64\n",
       "product_description_lenght_q25                     float64\n",
       "product_description_lenght_q75                     float64\n",
       "product_description_lenght_range                   float64\n",
       "product_photos_qty_count                           float64\n",
       "product_photos_qty_min                             float64\n",
       "product_photos_qty_max                             float64\n",
       "product_photos_qty_mean                            float64\n",
       "product_photos_qty_median                          float64\n",
       "product_photos_qty_q25                             float64\n",
       "product_photos_qty_q75                             float64\n",
       "product_photos_qty_range                           float64\n",
       "product_weight_g_count                             float64\n",
       "product_weight_g_min                               float64\n",
       "product_weight_g_max                               float64\n",
       "product_weight_g_mean                              float64\n",
       "product_weight_g_median                            float64\n",
       "product_weight_g_q25                               float64\n",
       "product_weight_g_q75                               float64\n",
       "product_weight_g_range                             float64\n",
       "product_length_cm_count                            float64\n",
       "product_length_cm_min                              float64\n",
       "product_length_cm_max                              float64\n",
       "product_length_cm_mean                             float64\n",
       "product_length_cm_median                           float64\n",
       "product_length_cm_q25                              float64\n",
       "product_length_cm_q75                              float64\n",
       "product_length_cm_range                            float64\n",
       "product_height_cm_count                            float64\n",
       "product_height_cm_min                              float64\n",
       "product_height_cm_max                              float64\n",
       "product_height_cm_mean                             float64\n",
       "product_height_cm_median                           float64\n",
       "product_height_cm_q25                              float64\n",
       "product_height_cm_q75                              float64\n",
       "product_height_cm_range                            float64\n",
       "product_width_cm_count                             float64\n",
       "product_width_cm_min                               float64\n",
       "product_width_cm_max                               float64\n",
       "product_width_cm_mean                              float64\n",
       "product_width_cm_median                            float64\n",
       "product_width_cm_q25                               float64\n",
       "product_width_cm_q75                               float64\n",
       "product_width_cm_range                             float64\n",
       "order_purchase_until_approved_in_seconds           float64\n",
       "order_purchase_until_approved_in_minutes           float64\n",
       "order_purchase_until_approved_in_hours             float64\n",
       "order_purchase_until_approved_in_days              float64\n",
       "order_purchase_timestamp_second                      int32\n",
       "order_purchase_timestamp_minute                      int64\n",
       "order_purchase_timestamp_hour                        int64\n",
       "order_purchase_timestamp_day                         int64\n",
       "order_purchase_timestamp_month                       int64\n",
       "order_approved_at_second                           float64\n",
       "order_approved_at_minute                           float64\n",
       "order_approved_at_hour                             float64\n",
       "order_approved_at_day                              float64\n",
       "order_approved_at_month                            float64\n",
       "delivered_in_days                                  float64\n",
       "estimated_delivery_in_days                         float64\n",
       "time                                        datetime64[ns]\n",
       "dtype: object"
      ]
     },
     "execution_count": 12,
     "metadata": {},
     "output_type": "execute_result"
    }
   ],
   "source": [
    "df_train.dtypes"
   ]
  },
  {
   "cell_type": "code",
   "execution_count": 13,
   "id": "6ca33b25-b0dc-4fe7-a1c7-8fe9d5e3041b",
   "metadata": {
    "scrolled": true
   },
   "outputs": [
    {
     "data": {
      "text/plain": [
       "order_purchase_timestamp                    datetime64[ns]\n",
       "order_delivered_customer_date               datetime64[ns]\n",
       "order_estimated_delivery_date               datetime64[ns]\n",
       "customer_zip_code_prefix                            object\n",
       "customer_city                                       object\n",
       "customer_state                                      object\n",
       "customer_lat                                       float64\n",
       "customer_lng                                       float64\n",
       "seller_geolocation_city_count                        int64\n",
       "seller_geolocation_city_nunique                      int64\n",
       "seller_geolocation_city_size                         int64\n",
       "seller_geolocation_city_mode                        object\n",
       "seller_geolocation_state_count                       int64\n",
       "seller_geolocation_state_nunique                     int64\n",
       "seller_geolocation_state_size                        int64\n",
       "seller_geolocation_state_mode                       object\n",
       "distance_customer_seller_count                       int64\n",
       "distance_customer_seller_min                       float64\n",
       "distance_customer_seller_max                       float64\n",
       "distance_customer_seller_mean                      float64\n",
       "distance_customer_seller_median                    float64\n",
       "distance_customer_seller_q25                       float64\n",
       "distance_customer_seller_q75                       float64\n",
       "distance_customer_seller_range                     float64\n",
       "payment_sequential_count                           float64\n",
       "payment_sequential_min                             float64\n",
       "payment_sequential_max                             float64\n",
       "payment_sequential_mean                            float64\n",
       "payment_sequential_median                          float64\n",
       "payment_sequential_q25                             float64\n",
       "payment_sequential_q75                             float64\n",
       "payment_sequential_range                           float64\n",
       "payment_type_count                                 float64\n",
       "payment_type_nunique                               float64\n",
       "payment_type_size                                  float64\n",
       "payment_type_mode                                   object\n",
       "payment_installments_count                         float64\n",
       "payment_installments_min                           float64\n",
       "payment_installments_max                           float64\n",
       "payment_installments_mean                          float64\n",
       "payment_installments_median                        float64\n",
       "payment_installments_q25                           float64\n",
       "payment_installments_q75                           float64\n",
       "payment_installments_range                         float64\n",
       "payment_value_count                                float64\n",
       "payment_value_min                                  float64\n",
       "payment_value_max                                  float64\n",
       "payment_value_mean                                 float64\n",
       "payment_value_median                               float64\n",
       "payment_value_q25                                  float64\n",
       "payment_value_q75                                  float64\n",
       "payment_value_range                                float64\n",
       "product_id_count                                   float64\n",
       "seller_id_count                                    float64\n",
       "price_count                                        float64\n",
       "price_min                                          float64\n",
       "price_max                                          float64\n",
       "price_mean                                         float64\n",
       "price_median                                       float64\n",
       "price_q25                                          float64\n",
       "price_q75                                          float64\n",
       "price_range                                        float64\n",
       "freight_value_count                                float64\n",
       "freight_value_min                                  float64\n",
       "freight_value_max                                  float64\n",
       "freight_value_mean                                 float64\n",
       "freight_value_median                               float64\n",
       "freight_value_q25                                  float64\n",
       "freight_value_q75                                  float64\n",
       "freight_value_range                                float64\n",
       "product_category_name_count                        float64\n",
       "product_category_name_nunique                      float64\n",
       "product_category_name_size                         float64\n",
       "product_category_name_mode                          object\n",
       "product_name_lenght_count                          float64\n",
       "product_name_lenght_min                            float64\n",
       "product_name_lenght_max                            float64\n",
       "product_name_lenght_mean                           float64\n",
       "product_name_lenght_median                         float64\n",
       "product_name_lenght_q25                            float64\n",
       "product_name_lenght_q75                            float64\n",
       "product_name_lenght_range                          float64\n",
       "product_description_lenght_count                   float64\n",
       "product_description_lenght_min                     float64\n",
       "product_description_lenght_max                     float64\n",
       "product_description_lenght_mean                    float64\n",
       "product_description_lenght_median                  float64\n",
       "product_description_lenght_q25                     float64\n",
       "product_description_lenght_q75                     float64\n",
       "product_description_lenght_range                   float64\n",
       "product_photos_qty_count                           float64\n",
       "product_photos_qty_min                             float64\n",
       "product_photos_qty_max                             float64\n",
       "product_photos_qty_mean                            float64\n",
       "product_photos_qty_median                          float64\n",
       "product_photos_qty_q25                             float64\n",
       "product_photos_qty_q75                             float64\n",
       "product_photos_qty_range                           float64\n",
       "product_weight_g_count                             float64\n",
       "product_weight_g_min                               float64\n",
       "product_weight_g_max                               float64\n",
       "product_weight_g_mean                              float64\n",
       "product_weight_g_median                            float64\n",
       "product_weight_g_q25                               float64\n",
       "product_weight_g_q75                               float64\n",
       "product_weight_g_range                             float64\n",
       "product_length_cm_count                            float64\n",
       "product_length_cm_min                              float64\n",
       "product_length_cm_max                              float64\n",
       "product_length_cm_mean                             float64\n",
       "product_length_cm_median                           float64\n",
       "product_length_cm_q25                              float64\n",
       "product_length_cm_q75                              float64\n",
       "product_length_cm_range                            float64\n",
       "product_height_cm_count                            float64\n",
       "product_height_cm_min                              float64\n",
       "product_height_cm_max                              float64\n",
       "product_height_cm_mean                             float64\n",
       "product_height_cm_median                           float64\n",
       "product_height_cm_q25                              float64\n",
       "product_height_cm_q75                              float64\n",
       "product_height_cm_range                            float64\n",
       "product_width_cm_count                             float64\n",
       "product_width_cm_min                               float64\n",
       "product_width_cm_max                               float64\n",
       "product_width_cm_mean                              float64\n",
       "product_width_cm_median                            float64\n",
       "product_width_cm_q25                               float64\n",
       "product_width_cm_q75                               float64\n",
       "product_width_cm_range                             float64\n",
       "order_purchase_until_approved_in_seconds           float64\n",
       "order_purchase_until_approved_in_minutes           float64\n",
       "order_purchase_until_approved_in_hours             float64\n",
       "order_purchase_until_approved_in_days              float64\n",
       "order_purchase_timestamp_second                      int32\n",
       "order_purchase_timestamp_minute                      int64\n",
       "order_purchase_timestamp_hour                        int64\n",
       "order_purchase_timestamp_day                         int64\n",
       "order_purchase_timestamp_month                       int64\n",
       "order_approved_at_second                           float64\n",
       "order_approved_at_minute                           float64\n",
       "order_approved_at_hour                             float64\n",
       "order_approved_at_day                              float64\n",
       "order_approved_at_month                            float64\n",
       "delivered_in_days                                  float64\n",
       "estimated_delivery_in_days                         float64\n",
       "time                                        datetime64[ns]\n",
       "dtype: object"
      ]
     },
     "execution_count": 13,
     "metadata": {},
     "output_type": "execute_result"
    }
   ],
   "source": [
    "df_valid.dtypes"
   ]
  },
  {
   "cell_type": "code",
   "execution_count": 14,
   "id": "238c16d6-45f5-4fc4-af44-ebc8538d9469",
   "metadata": {
    "scrolled": true
   },
   "outputs": [
    {
     "data": {
      "text/plain": [
       "order_purchase_timestamp                    datetime64[ns]\n",
       "order_delivered_customer_date               datetime64[ns]\n",
       "order_estimated_delivery_date               datetime64[ns]\n",
       "customer_zip_code_prefix                            object\n",
       "customer_city                                       object\n",
       "customer_state                                      object\n",
       "customer_lat                                       float64\n",
       "customer_lng                                       float64\n",
       "seller_geolocation_city_count                        int64\n",
       "seller_geolocation_city_nunique                      int64\n",
       "seller_geolocation_city_size                         int64\n",
       "seller_geolocation_city_mode                        object\n",
       "seller_geolocation_state_count                       int64\n",
       "seller_geolocation_state_nunique                     int64\n",
       "seller_geolocation_state_size                        int64\n",
       "seller_geolocation_state_mode                       object\n",
       "distance_customer_seller_count                       int64\n",
       "distance_customer_seller_min                       float64\n",
       "distance_customer_seller_max                       float64\n",
       "distance_customer_seller_mean                      float64\n",
       "distance_customer_seller_median                    float64\n",
       "distance_customer_seller_q25                       float64\n",
       "distance_customer_seller_q75                       float64\n",
       "distance_customer_seller_range                     float64\n",
       "payment_sequential_count                           float64\n",
       "payment_sequential_min                             float64\n",
       "payment_sequential_max                             float64\n",
       "payment_sequential_mean                            float64\n",
       "payment_sequential_median                          float64\n",
       "payment_sequential_q25                             float64\n",
       "payment_sequential_q75                             float64\n",
       "payment_sequential_range                           float64\n",
       "payment_type_count                                 float64\n",
       "payment_type_nunique                               float64\n",
       "payment_type_size                                  float64\n",
       "payment_type_mode                                   object\n",
       "payment_installments_count                         float64\n",
       "payment_installments_min                           float64\n",
       "payment_installments_max                           float64\n",
       "payment_installments_mean                          float64\n",
       "payment_installments_median                        float64\n",
       "payment_installments_q25                           float64\n",
       "payment_installments_q75                           float64\n",
       "payment_installments_range                         float64\n",
       "payment_value_count                                float64\n",
       "payment_value_min                                  float64\n",
       "payment_value_max                                  float64\n",
       "payment_value_mean                                 float64\n",
       "payment_value_median                               float64\n",
       "payment_value_q25                                  float64\n",
       "payment_value_q75                                  float64\n",
       "payment_value_range                                float64\n",
       "product_id_count                                   float64\n",
       "seller_id_count                                    float64\n",
       "price_count                                        float64\n",
       "price_min                                          float64\n",
       "price_max                                          float64\n",
       "price_mean                                         float64\n",
       "price_median                                       float64\n",
       "price_q25                                          float64\n",
       "price_q75                                          float64\n",
       "price_range                                        float64\n",
       "freight_value_count                                float64\n",
       "freight_value_min                                  float64\n",
       "freight_value_max                                  float64\n",
       "freight_value_mean                                 float64\n",
       "freight_value_median                               float64\n",
       "freight_value_q25                                  float64\n",
       "freight_value_q75                                  float64\n",
       "freight_value_range                                float64\n",
       "product_category_name_count                        float64\n",
       "product_category_name_nunique                      float64\n",
       "product_category_name_size                         float64\n",
       "product_category_name_mode                          object\n",
       "product_name_lenght_count                          float64\n",
       "product_name_lenght_min                            float64\n",
       "product_name_lenght_max                            float64\n",
       "product_name_lenght_mean                           float64\n",
       "product_name_lenght_median                         float64\n",
       "product_name_lenght_q25                            float64\n",
       "product_name_lenght_q75                            float64\n",
       "product_name_lenght_range                          float64\n",
       "product_description_lenght_count                   float64\n",
       "product_description_lenght_min                     float64\n",
       "product_description_lenght_max                     float64\n",
       "product_description_lenght_mean                    float64\n",
       "product_description_lenght_median                  float64\n",
       "product_description_lenght_q25                     float64\n",
       "product_description_lenght_q75                     float64\n",
       "product_description_lenght_range                   float64\n",
       "product_photos_qty_count                           float64\n",
       "product_photos_qty_min                             float64\n",
       "product_photos_qty_max                             float64\n",
       "product_photos_qty_mean                            float64\n",
       "product_photos_qty_median                          float64\n",
       "product_photos_qty_q25                             float64\n",
       "product_photos_qty_q75                             float64\n",
       "product_photos_qty_range                           float64\n",
       "product_weight_g_count                             float64\n",
       "product_weight_g_min                               float64\n",
       "product_weight_g_max                               float64\n",
       "product_weight_g_mean                              float64\n",
       "product_weight_g_median                            float64\n",
       "product_weight_g_q25                               float64\n",
       "product_weight_g_q75                               float64\n",
       "product_weight_g_range                             float64\n",
       "product_length_cm_count                            float64\n",
       "product_length_cm_min                              float64\n",
       "product_length_cm_max                              float64\n",
       "product_length_cm_mean                             float64\n",
       "product_length_cm_median                           float64\n",
       "product_length_cm_q25                              float64\n",
       "product_length_cm_q75                              float64\n",
       "product_length_cm_range                            float64\n",
       "product_height_cm_count                            float64\n",
       "product_height_cm_min                              float64\n",
       "product_height_cm_max                              float64\n",
       "product_height_cm_mean                             float64\n",
       "product_height_cm_median                           float64\n",
       "product_height_cm_q25                              float64\n",
       "product_height_cm_q75                              float64\n",
       "product_height_cm_range                            float64\n",
       "product_width_cm_count                             float64\n",
       "product_width_cm_min                               float64\n",
       "product_width_cm_max                               float64\n",
       "product_width_cm_mean                              float64\n",
       "product_width_cm_median                            float64\n",
       "product_width_cm_q25                               float64\n",
       "product_width_cm_q75                               float64\n",
       "product_width_cm_range                             float64\n",
       "order_purchase_until_approved_in_seconds           float64\n",
       "order_purchase_until_approved_in_minutes           float64\n",
       "order_purchase_until_approved_in_hours             float64\n",
       "order_purchase_until_approved_in_days              float64\n",
       "order_purchase_timestamp_second                      int32\n",
       "order_purchase_timestamp_minute                      int64\n",
       "order_purchase_timestamp_hour                        int64\n",
       "order_purchase_timestamp_day                         int64\n",
       "order_purchase_timestamp_month                       int64\n",
       "order_approved_at_second                           float64\n",
       "order_approved_at_minute                           float64\n",
       "order_approved_at_hour                             float64\n",
       "order_approved_at_day                              float64\n",
       "order_approved_at_month                            float64\n",
       "delivered_in_days                                  float64\n",
       "estimated_delivery_in_days                         float64\n",
       "time                                        datetime64[ns]\n",
       "dtype: object"
      ]
     },
     "execution_count": 14,
     "metadata": {},
     "output_type": "execute_result"
    }
   ],
   "source": [
    "df_oot.dtypes"
   ]
  },
  {
   "cell_type": "markdown",
   "id": "4e0a0dc6-5f33-4051-9563-37a252e83944",
   "metadata": {},
   "source": [
    "## Check NA"
   ]
  },
  {
   "cell_type": "code",
   "execution_count": 15,
   "id": "ef113b1a-aa4e-440d-b027-1a9bdefbecd0",
   "metadata": {
    "scrolled": true
   },
   "outputs": [
    {
     "data": {
      "text/plain": [
       "order_purchase_timestamp                    0.000000\n",
       "order_delivered_customer_date               0.000000\n",
       "order_estimated_delivery_date               0.000000\n",
       "customer_zip_code_prefix                    0.000000\n",
       "customer_city                               0.000000\n",
       "customer_state                              0.000000\n",
       "customer_lat                                0.002799\n",
       "customer_lng                                0.002799\n",
       "seller_geolocation_city_count               0.000000\n",
       "seller_geolocation_city_nunique             0.000000\n",
       "seller_geolocation_city_size                0.000000\n",
       "seller_geolocation_city_mode                0.002492\n",
       "seller_geolocation_state_count              0.000000\n",
       "seller_geolocation_state_nunique            0.000000\n",
       "seller_geolocation_state_size               0.000000\n",
       "seller_geolocation_state_mode               0.002511\n",
       "distance_customer_seller_count              0.000000\n",
       "distance_customer_seller_min                0.005272\n",
       "distance_customer_seller_max                0.005272\n",
       "distance_customer_seller_mean               0.005272\n",
       "distance_customer_seller_median             0.005272\n",
       "distance_customer_seller_q25                0.005291\n",
       "distance_customer_seller_q75                0.005291\n",
       "distance_customer_seller_range              0.005272\n",
       "payment_sequential_count                    0.000019\n",
       "payment_sequential_min                      0.000019\n",
       "payment_sequential_max                      0.000019\n",
       "payment_sequential_mean                     0.000019\n",
       "payment_sequential_median                   0.000019\n",
       "payment_sequential_q25                      0.000019\n",
       "payment_sequential_q75                      0.000019\n",
       "payment_sequential_range                    0.000019\n",
       "payment_type_count                          0.000019\n",
       "payment_type_nunique                        0.000019\n",
       "payment_type_size                           0.000019\n",
       "payment_type_mode                           0.000019\n",
       "payment_installments_count                  0.000019\n",
       "payment_installments_min                    0.000019\n",
       "payment_installments_max                    0.000019\n",
       "payment_installments_mean                   0.000019\n",
       "payment_installments_median                 0.000019\n",
       "payment_installments_q25                    0.000019\n",
       "payment_installments_q75                    0.000019\n",
       "payment_installments_range                  0.000019\n",
       "payment_value_count                         0.000019\n",
       "payment_value_min                           0.000019\n",
       "payment_value_max                           0.000019\n",
       "payment_value_mean                          0.000019\n",
       "payment_value_median                        0.000019\n",
       "payment_value_q25                           0.000019\n",
       "payment_value_q75                           0.000019\n",
       "payment_value_range                         0.000019\n",
       "product_id_count                            0.000000\n",
       "seller_id_count                             0.000000\n",
       "price_count                                 0.000000\n",
       "price_min                                   0.000000\n",
       "price_max                                   0.000000\n",
       "price_mean                                  0.000000\n",
       "price_median                                0.000000\n",
       "price_q25                                   0.000000\n",
       "price_q75                                   0.000000\n",
       "price_range                                 0.000000\n",
       "freight_value_count                         0.000000\n",
       "freight_value_min                           0.000000\n",
       "freight_value_max                           0.000000\n",
       "freight_value_mean                          0.000000\n",
       "freight_value_median                        0.000000\n",
       "freight_value_q25                           0.000000\n",
       "freight_value_q75                           0.000000\n",
       "freight_value_range                         0.000000\n",
       "product_category_name_count                 0.000000\n",
       "product_category_name_nunique               0.000000\n",
       "product_category_name_size                  0.000000\n",
       "product_category_name_mode                  0.017446\n",
       "product_name_lenght_count                   0.000000\n",
       "product_name_lenght_min                     0.016909\n",
       "product_name_lenght_max                     0.016909\n",
       "product_name_lenght_mean                    0.016909\n",
       "product_name_lenght_median                  0.016909\n",
       "product_name_lenght_q25                     0.017657\n",
       "product_name_lenght_q75                     0.017657\n",
       "product_name_lenght_range                   0.016909\n",
       "product_description_lenght_count            0.000000\n",
       "product_description_lenght_min              0.016909\n",
       "product_description_lenght_max              0.016909\n",
       "product_description_lenght_mean             0.016909\n",
       "product_description_lenght_median           0.016909\n",
       "product_description_lenght_q25              0.017657\n",
       "product_description_lenght_q75              0.017657\n",
       "product_description_lenght_range            0.016909\n",
       "product_photos_qty_count                    0.000000\n",
       "product_photos_qty_min                      0.016909\n",
       "product_photos_qty_max                      0.016909\n",
       "product_photos_qty_mean                     0.016909\n",
       "product_photos_qty_median                   0.016909\n",
       "product_photos_qty_q25                      0.017657\n",
       "product_photos_qty_q75                      0.017657\n",
       "product_photos_qty_range                    0.016909\n",
       "product_weight_g_count                      0.000000\n",
       "product_weight_g_min                        0.000134\n",
       "product_weight_g_max                        0.000134\n",
       "product_weight_g_mean                       0.000134\n",
       "product_weight_g_median                     0.000134\n",
       "product_weight_g_q25                        0.000134\n",
       "product_weight_g_q75                        0.000134\n",
       "product_weight_g_range                      0.000134\n",
       "product_length_cm_count                     0.000000\n",
       "product_length_cm_min                       0.000134\n",
       "product_length_cm_max                       0.000134\n",
       "product_length_cm_mean                      0.000134\n",
       "product_length_cm_median                    0.000134\n",
       "product_length_cm_q25                       0.000134\n",
       "product_length_cm_q75                       0.000134\n",
       "product_length_cm_range                     0.000134\n",
       "product_height_cm_count                     0.000000\n",
       "product_height_cm_min                       0.000134\n",
       "product_height_cm_max                       0.000134\n",
       "product_height_cm_mean                      0.000134\n",
       "product_height_cm_median                    0.000134\n",
       "product_height_cm_q25                       0.000134\n",
       "product_height_cm_q75                       0.000134\n",
       "product_height_cm_range                     0.000134\n",
       "product_width_cm_count                      0.000000\n",
       "product_width_cm_min                        0.000134\n",
       "product_width_cm_max                        0.000134\n",
       "product_width_cm_mean                       0.000134\n",
       "product_width_cm_median                     0.000134\n",
       "product_width_cm_q25                        0.000134\n",
       "product_width_cm_q75                        0.000134\n",
       "product_width_cm_range                      0.000134\n",
       "order_purchase_until_approved_in_seconds    0.000000\n",
       "order_purchase_until_approved_in_minutes    0.000000\n",
       "order_purchase_until_approved_in_hours      0.000000\n",
       "order_purchase_until_approved_in_days       0.000000\n",
       "order_purchase_timestamp_second             0.000000\n",
       "order_purchase_timestamp_minute             0.000000\n",
       "order_purchase_timestamp_hour               0.000000\n",
       "order_purchase_timestamp_day                0.000000\n",
       "order_purchase_timestamp_month              0.000000\n",
       "order_approved_at_second                    0.000000\n",
       "order_approved_at_minute                    0.000000\n",
       "order_approved_at_hour                      0.000000\n",
       "order_approved_at_day                       0.000000\n",
       "order_approved_at_month                     0.000000\n",
       "delivered_in_days                           0.000000\n",
       "estimated_delivery_in_days                  0.000000\n",
       "time                                        0.000000\n",
       "dtype: float64"
      ]
     },
     "execution_count": 15,
     "metadata": {},
     "output_type": "execute_result"
    }
   ],
   "source": [
    "df_train.isna().mean()"
   ]
  },
  {
   "cell_type": "code",
   "execution_count": 16,
   "id": "b6c2c8c9-1a6b-4972-b00e-56b973f44cbf",
   "metadata": {
    "scrolled": true
   },
   "outputs": [
    {
     "data": {
      "text/plain": [
       "order_purchase_timestamp                    0.000000\n",
       "order_delivered_customer_date               0.000000\n",
       "order_estimated_delivery_date               0.000000\n",
       "customer_zip_code_prefix                    0.000000\n",
       "customer_city                               0.000000\n",
       "customer_state                              0.000000\n",
       "customer_lat                                0.002491\n",
       "customer_lng                                0.002491\n",
       "seller_geolocation_city_count               0.000000\n",
       "seller_geolocation_city_nunique             0.000000\n",
       "seller_geolocation_city_size                0.000000\n",
       "seller_geolocation_city_mode                0.002335\n",
       "seller_geolocation_state_count              0.000000\n",
       "seller_geolocation_state_nunique            0.000000\n",
       "seller_geolocation_state_size               0.000000\n",
       "seller_geolocation_state_mode               0.002335\n",
       "distance_customer_seller_count              0.000000\n",
       "distance_customer_seller_min                0.004787\n",
       "distance_customer_seller_max                0.004787\n",
       "distance_customer_seller_mean               0.004787\n",
       "distance_customer_seller_median             0.004787\n",
       "distance_customer_seller_q25                0.004826\n",
       "distance_customer_seller_q75                0.004826\n",
       "distance_customer_seller_range              0.004787\n",
       "payment_sequential_count                    0.000000\n",
       "payment_sequential_min                      0.000000\n",
       "payment_sequential_max                      0.000000\n",
       "payment_sequential_mean                     0.000000\n",
       "payment_sequential_median                   0.000000\n",
       "payment_sequential_q25                      0.000000\n",
       "payment_sequential_q75                      0.000000\n",
       "payment_sequential_range                    0.000000\n",
       "payment_type_count                          0.000000\n",
       "payment_type_nunique                        0.000000\n",
       "payment_type_size                           0.000000\n",
       "payment_type_mode                           0.000000\n",
       "payment_installments_count                  0.000000\n",
       "payment_installments_min                    0.000000\n",
       "payment_installments_max                    0.000000\n",
       "payment_installments_mean                   0.000000\n",
       "payment_installments_median                 0.000000\n",
       "payment_installments_q25                    0.000000\n",
       "payment_installments_q75                    0.000000\n",
       "payment_installments_range                  0.000000\n",
       "payment_value_count                         0.000000\n",
       "payment_value_min                           0.000000\n",
       "payment_value_max                           0.000000\n",
       "payment_value_mean                          0.000000\n",
       "payment_value_median                        0.000000\n",
       "payment_value_q25                           0.000000\n",
       "payment_value_q75                           0.000000\n",
       "payment_value_range                         0.000000\n",
       "product_id_count                            0.000000\n",
       "seller_id_count                             0.000000\n",
       "price_count                                 0.000000\n",
       "price_min                                   0.000000\n",
       "price_max                                   0.000000\n",
       "price_mean                                  0.000000\n",
       "price_median                                0.000000\n",
       "price_q25                                   0.000000\n",
       "price_q75                                   0.000000\n",
       "price_range                                 0.000000\n",
       "freight_value_count                         0.000000\n",
       "freight_value_min                           0.000000\n",
       "freight_value_max                           0.000000\n",
       "freight_value_mean                          0.000000\n",
       "freight_value_median                        0.000000\n",
       "freight_value_q25                           0.000000\n",
       "freight_value_q75                           0.000000\n",
       "freight_value_range                         0.000000\n",
       "product_category_name_count                 0.000000\n",
       "product_category_name_nunique               0.000000\n",
       "product_category_name_size                  0.000000\n",
       "product_category_name_mode                  0.014596\n",
       "product_name_lenght_count                   0.000000\n",
       "product_name_lenght_min                     0.014129\n",
       "product_name_lenght_max                     0.014129\n",
       "product_name_lenght_mean                    0.014129\n",
       "product_name_lenght_median                  0.014129\n",
       "product_name_lenght_q25                     0.014674\n",
       "product_name_lenght_q75                     0.014674\n",
       "product_name_lenght_range                   0.014129\n",
       "product_description_lenght_count            0.000000\n",
       "product_description_lenght_min              0.014129\n",
       "product_description_lenght_max              0.014129\n",
       "product_description_lenght_mean             0.014129\n",
       "product_description_lenght_median           0.014129\n",
       "product_description_lenght_q25              0.014674\n",
       "product_description_lenght_q75              0.014674\n",
       "product_description_lenght_range            0.014129\n",
       "product_photos_qty_count                    0.000000\n",
       "product_photos_qty_min                      0.014129\n",
       "product_photos_qty_max                      0.014129\n",
       "product_photos_qty_mean                     0.014129\n",
       "product_photos_qty_median                   0.014129\n",
       "product_photos_qty_q25                      0.014674\n",
       "product_photos_qty_q75                      0.014674\n",
       "product_photos_qty_range                    0.014129\n",
       "product_weight_g_count                      0.000000\n",
       "product_weight_g_min                        0.000350\n",
       "product_weight_g_max                        0.000350\n",
       "product_weight_g_mean                       0.000350\n",
       "product_weight_g_median                     0.000350\n",
       "product_weight_g_q25                        0.000350\n",
       "product_weight_g_q75                        0.000350\n",
       "product_weight_g_range                      0.000350\n",
       "product_length_cm_count                     0.000000\n",
       "product_length_cm_min                       0.000350\n",
       "product_length_cm_max                       0.000350\n",
       "product_length_cm_mean                      0.000350\n",
       "product_length_cm_median                    0.000350\n",
       "product_length_cm_q25                       0.000350\n",
       "product_length_cm_q75                       0.000350\n",
       "product_length_cm_range                     0.000350\n",
       "product_height_cm_count                     0.000000\n",
       "product_height_cm_min                       0.000350\n",
       "product_height_cm_max                       0.000350\n",
       "product_height_cm_mean                      0.000350\n",
       "product_height_cm_median                    0.000350\n",
       "product_height_cm_q25                       0.000350\n",
       "product_height_cm_q75                       0.000350\n",
       "product_height_cm_range                     0.000350\n",
       "product_width_cm_count                      0.000000\n",
       "product_width_cm_min                        0.000350\n",
       "product_width_cm_max                        0.000350\n",
       "product_width_cm_mean                       0.000350\n",
       "product_width_cm_median                     0.000350\n",
       "product_width_cm_q25                        0.000350\n",
       "product_width_cm_q75                        0.000350\n",
       "product_width_cm_range                      0.000350\n",
       "order_purchase_until_approved_in_seconds    0.000000\n",
       "order_purchase_until_approved_in_minutes    0.000000\n",
       "order_purchase_until_approved_in_hours      0.000000\n",
       "order_purchase_until_approved_in_days       0.000000\n",
       "order_purchase_timestamp_second             0.000000\n",
       "order_purchase_timestamp_minute             0.000000\n",
       "order_purchase_timestamp_hour               0.000000\n",
       "order_purchase_timestamp_day                0.000000\n",
       "order_purchase_timestamp_month              0.000000\n",
       "order_approved_at_second                    0.000000\n",
       "order_approved_at_minute                    0.000000\n",
       "order_approved_at_hour                      0.000000\n",
       "order_approved_at_day                       0.000000\n",
       "order_approved_at_month                     0.000000\n",
       "delivered_in_days                           0.000000\n",
       "estimated_delivery_in_days                  0.000000\n",
       "time                                        0.000000\n",
       "dtype: float64"
      ]
     },
     "execution_count": 16,
     "metadata": {},
     "output_type": "execute_result"
    }
   ],
   "source": [
    "df_valid.isna().mean()"
   ]
  },
  {
   "cell_type": "code",
   "execution_count": 17,
   "id": "5ee26887-0084-4817-ac0d-7c95d07714ad",
   "metadata": {
    "scrolled": true
   },
   "outputs": [
    {
     "data": {
      "text/plain": [
       "order_purchase_timestamp                    0.000000\n",
       "order_delivered_customer_date               0.000000\n",
       "order_estimated_delivery_date               0.000000\n",
       "customer_zip_code_prefix                    0.000000\n",
       "customer_city                               0.000000\n",
       "customer_state                              0.000000\n",
       "customer_lat                                0.002903\n",
       "customer_lng                                0.002903\n",
       "seller_geolocation_city_count               0.000000\n",
       "seller_geolocation_city_nunique             0.000000\n",
       "seller_geolocation_city_size                0.000000\n",
       "seller_geolocation_city_mode                0.001398\n",
       "seller_geolocation_state_count              0.000000\n",
       "seller_geolocation_state_nunique            0.000000\n",
       "seller_geolocation_state_size               0.000000\n",
       "seller_geolocation_state_mode               0.001398\n",
       "distance_customer_seller_count              0.000000\n",
       "distance_customer_seller_min                0.004193\n",
       "distance_customer_seller_max                0.004193\n",
       "distance_customer_seller_mean               0.004193\n",
       "distance_customer_seller_median             0.004193\n",
       "distance_customer_seller_q25                0.004300\n",
       "distance_customer_seller_q75                0.004300\n",
       "distance_customer_seller_range              0.004193\n",
       "payment_sequential_count                    0.000000\n",
       "payment_sequential_min                      0.000000\n",
       "payment_sequential_max                      0.000000\n",
       "payment_sequential_mean                     0.000000\n",
       "payment_sequential_median                   0.000000\n",
       "payment_sequential_q25                      0.000000\n",
       "payment_sequential_q75                      0.000000\n",
       "payment_sequential_range                    0.000000\n",
       "payment_type_count                          0.000000\n",
       "payment_type_nunique                        0.000000\n",
       "payment_type_size                           0.000000\n",
       "payment_type_mode                           0.000000\n",
       "payment_installments_count                  0.000000\n",
       "payment_installments_min                    0.000000\n",
       "payment_installments_max                    0.000000\n",
       "payment_installments_mean                   0.000000\n",
       "payment_installments_median                 0.000000\n",
       "payment_installments_q25                    0.000000\n",
       "payment_installments_q75                    0.000000\n",
       "payment_installments_range                  0.000000\n",
       "payment_value_count                         0.000000\n",
       "payment_value_min                           0.000000\n",
       "payment_value_max                           0.000000\n",
       "payment_value_mean                          0.000000\n",
       "payment_value_median                        0.000000\n",
       "payment_value_q25                           0.000000\n",
       "payment_value_q75                           0.000000\n",
       "payment_value_range                         0.000000\n",
       "product_id_count                            0.000000\n",
       "seller_id_count                             0.000000\n",
       "price_count                                 0.000000\n",
       "price_min                                   0.000000\n",
       "price_max                                   0.000000\n",
       "price_mean                                  0.000000\n",
       "price_median                                0.000000\n",
       "price_q25                                   0.000000\n",
       "price_q75                                   0.000000\n",
       "price_range                                 0.000000\n",
       "freight_value_count                         0.000000\n",
       "freight_value_min                           0.000000\n",
       "freight_value_max                           0.000000\n",
       "freight_value_mean                          0.000000\n",
       "freight_value_median                        0.000000\n",
       "freight_value_q25                           0.000000\n",
       "freight_value_q75                           0.000000\n",
       "freight_value_range                         0.000000\n",
       "product_category_name_count                 0.000000\n",
       "product_category_name_nunique               0.000000\n",
       "product_category_name_size                  0.000000\n",
       "product_category_name_mode                  0.004999\n",
       "product_name_lenght_count                   0.000000\n",
       "product_name_lenght_min                     0.004623\n",
       "product_name_lenght_max                     0.004623\n",
       "product_name_lenght_mean                    0.004623\n",
       "product_name_lenght_median                  0.004623\n",
       "product_name_lenght_q25                     0.004999\n",
       "product_name_lenght_q75                     0.004999\n",
       "product_name_lenght_range                   0.004623\n",
       "product_description_lenght_count            0.000000\n",
       "product_description_lenght_min              0.004623\n",
       "product_description_lenght_max              0.004623\n",
       "product_description_lenght_mean             0.004623\n",
       "product_description_lenght_median           0.004623\n",
       "product_description_lenght_q25              0.004999\n",
       "product_description_lenght_q75              0.004999\n",
       "product_description_lenght_range            0.004623\n",
       "product_photos_qty_count                    0.000000\n",
       "product_photos_qty_min                      0.004623\n",
       "product_photos_qty_max                      0.004623\n",
       "product_photos_qty_mean                     0.004623\n",
       "product_photos_qty_median                   0.004623\n",
       "product_photos_qty_q25                      0.004999\n",
       "product_photos_qty_q75                      0.004999\n",
       "product_photos_qty_range                    0.004623\n",
       "product_weight_g_count                      0.000000\n",
       "product_weight_g_min                        0.000000\n",
       "product_weight_g_max                        0.000000\n",
       "product_weight_g_mean                       0.000000\n",
       "product_weight_g_median                     0.000000\n",
       "product_weight_g_q25                        0.000000\n",
       "product_weight_g_q75                        0.000000\n",
       "product_weight_g_range                      0.000000\n",
       "product_length_cm_count                     0.000000\n",
       "product_length_cm_min                       0.000000\n",
       "product_length_cm_max                       0.000000\n",
       "product_length_cm_mean                      0.000000\n",
       "product_length_cm_median                    0.000000\n",
       "product_length_cm_q25                       0.000000\n",
       "product_length_cm_q75                       0.000000\n",
       "product_length_cm_range                     0.000000\n",
       "product_height_cm_count                     0.000000\n",
       "product_height_cm_min                       0.000000\n",
       "product_height_cm_max                       0.000000\n",
       "product_height_cm_mean                      0.000000\n",
       "product_height_cm_median                    0.000000\n",
       "product_height_cm_q25                       0.000000\n",
       "product_height_cm_q75                       0.000000\n",
       "product_height_cm_range                     0.000000\n",
       "product_width_cm_count                      0.000000\n",
       "product_width_cm_min                        0.000000\n",
       "product_width_cm_max                        0.000000\n",
       "product_width_cm_mean                       0.000000\n",
       "product_width_cm_median                     0.000000\n",
       "product_width_cm_q25                        0.000000\n",
       "product_width_cm_q75                        0.000000\n",
       "product_width_cm_range                      0.000000\n",
       "order_purchase_until_approved_in_seconds    0.000000\n",
       "order_purchase_until_approved_in_minutes    0.000000\n",
       "order_purchase_until_approved_in_hours      0.000000\n",
       "order_purchase_until_approved_in_days       0.000000\n",
       "order_purchase_timestamp_second             0.000000\n",
       "order_purchase_timestamp_minute             0.000000\n",
       "order_purchase_timestamp_hour               0.000000\n",
       "order_purchase_timestamp_day                0.000000\n",
       "order_purchase_timestamp_month              0.000000\n",
       "order_approved_at_second                    0.000000\n",
       "order_approved_at_minute                    0.000000\n",
       "order_approved_at_hour                      0.000000\n",
       "order_approved_at_day                       0.000000\n",
       "order_approved_at_month                     0.000000\n",
       "delivered_in_days                           0.000000\n",
       "estimated_delivery_in_days                  0.000000\n",
       "time                                        0.000000\n",
       "dtype: float64"
      ]
     },
     "execution_count": 17,
     "metadata": {},
     "output_type": "execute_result"
    }
   ],
   "source": [
    "df_oot.isna().mean()"
   ]
  },
  {
   "cell_type": "markdown",
   "id": "d9de8f2f-7e45-4e52-9152-4dc7fd80f599",
   "metadata": {},
   "source": [
    "## Splitting into X and y"
   ]
  },
  {
   "cell_type": "code",
   "execution_count": 18,
   "id": "1da1c3e3-80a1-4fda-ac8f-2bf0ddea4097",
   "metadata": {},
   "outputs": [],
   "source": [
    "list_columns = [\n",
    "    'order_purchase_timestamp', 'order_delivered_customer_date', \n",
    "    'order_estimated_delivery_date', 'delivered_in_days', 'estimated_delivery_in_days', 'time']\n",
    "\n",
    "X_train = df_train.drop(columns=list_columns)\n",
    "X_valid = df_valid.drop(columns=list_columns)\n",
    "X_oot = df_oot.drop(columns=list_columns)"
   ]
  },
  {
   "cell_type": "code",
   "execution_count": 19,
   "id": "f19a1529-cc0c-4a53-aa50-80a64230d03f",
   "metadata": {},
   "outputs": [],
   "source": [
    "target = 'delivered_in_days'\n",
    "list_columns = ['delivered_in_days', 'estimated_delivery_in_days']\n",
    "\n",
    "y_train = df_train.loc[:, list_columns]\n",
    "y_valid = df_valid.loc[:, list_columns]\n",
    "y_oot = df_oot.loc[:, list_columns]"
   ]
  },
  {
   "cell_type": "markdown",
   "id": "b8d6384c-6ca2-4109-942c-1d890b493e45",
   "metadata": {},
   "source": [
    "# Feature Engineering"
   ]
  },
  {
   "cell_type": "markdown",
   "id": "8f48cc65-20d5-4964-9d3d-27d1d428ed4b",
   "metadata": {},
   "source": [
    "## Fill NA"
   ]
  },
  {
   "cell_type": "code",
   "execution_count": 20,
   "id": "3321b5ce-2912-42f3-8945-9d689eec02e3",
   "metadata": {},
   "outputs": [],
   "source": [
    "categorical_variables = X_train.select_dtypes(include='object').columns.tolist()"
   ]
  },
  {
   "cell_type": "code",
   "execution_count": 21,
   "id": "e3a5585d-f22e-4ce3-8469-b9663bcbecb8",
   "metadata": {},
   "outputs": [],
   "source": [
    "cat_imputer = imputation.CategoricalImputer(imputation_method='missing', fill_value='Missing', variables=categorical_variables)\n",
    "X_train = cat_imputer.fit_transform(X_train)\n",
    "X_valid = cat_imputer.transform(X_valid)\n",
    "X_oot = cat_imputer.transform(X_oot)"
   ]
  },
  {
   "cell_type": "markdown",
   "id": "0eba043a-feaa-47a9-bd2a-7145e1ffc21e",
   "metadata": {},
   "source": [
    "## Categorical Encoding"
   ]
  },
  {
   "cell_type": "code",
   "execution_count": 22,
   "id": "dbba549d-36b5-4c75-b703-836d8e890b9e",
   "metadata": {},
   "outputs": [],
   "source": [
    "cat_imputer = imputation.CategoricalImputer(imputation_method='missing', fill_value='Missing', variables=categorical_variables)\n",
    "\n",
    "X_train = cat_imputer.fit_transform(X_train)\n",
    "X_valid = cat_imputer.fit_transform(X_valid)\n",
    "X_oot = cat_imputer.fit_transform(X_oot)"
   ]
  },
  {
   "cell_type": "code",
   "execution_count": 23,
   "id": "54bb258c-9c31-4dec-8dc8-0649fd4ac78a",
   "metadata": {},
   "outputs": [
    {
     "name": "stderr",
     "output_type": "stream",
     "text": [
      "The number of unique categories for variable payment_type_mode is less than that indicated in n_categories. Thus, all categories will be considered frequent\n"
     ]
    }
   ],
   "source": [
    "rare_label_encoder = encoding.RareLabelEncoder(variables=categorical_variables)\n",
    "\n",
    "X_train = rare_label_encoder.fit_transform(X_train)\n",
    "X_valid = rare_label_encoder.transform(X_valid)\n",
    "X_oot = rare_label_encoder.transform(X_oot)"
   ]
  },
  {
   "cell_type": "code",
   "execution_count": 24,
   "id": "3a718d92-915d-440f-bd9c-54c49f19f2eb",
   "metadata": {},
   "outputs": [],
   "source": [
    "count_encoder = ce.CountEncoder(\n",
    "    cols=None, return_df=True, handle_unknown='value', \n",
    "    handle_missing='value', normalize=True)\n",
    "\n",
    "X_train[[c + '_ce' for c in categorical_variables]] = count_encoder.fit_transform(X_train[categorical_variables])\n",
    "X_valid[[c + '_ce' for c in categorical_variables]] = count_encoder.transform(X_valid[categorical_variables])\n",
    "X_oot[[c + '_ce' for c in categorical_variables]] = count_encoder.transform(X_oot[categorical_variables])"
   ]
  },
  {
   "cell_type": "code",
   "execution_count": 25,
   "id": "558ebd4e-07d3-403e-848d-6c79769db25e",
   "metadata": {},
   "outputs": [],
   "source": [
    "target_encoder = ce.TargetEncoder(\n",
    "    cols=None, return_df=False, handle_missing='value', handle_unknown='value')\n",
    "\n",
    "X_train[[c + '_te' for c in categorical_variables]] = target_encoder.fit_transform(X_train[categorical_variables], y_train[target])\n",
    "X_valid[[c + '_te' for c in categorical_variables]] = target_encoder.transform(X_valid[categorical_variables])\n",
    "X_oot[[c + '_te' for c in categorical_variables]] = target_encoder.transform(X_oot[categorical_variables])"
   ]
  },
  {
   "cell_type": "markdown",
   "id": "1206b80a-1066-4f67-99b8-3b52f4ac4536",
   "metadata": {},
   "source": [
    "## Cyclical Features"
   ]
  },
  {
   "cell_type": "code",
   "execution_count": 26,
   "id": "ae24ab7a-07f4-4446-8d6a-a75ff2e4370e",
   "metadata": {},
   "outputs": [],
   "source": [
    "cyclical_variables = [\n",
    "    'order_purchase_timestamp_second', 'order_purchase_timestamp_minute', 'order_purchase_timestamp_hour', 'order_purchase_timestamp_day', 'order_purchase_timestamp_month',\n",
    "    'order_approved_at_second', 'order_approved_at_minute', 'order_approved_at_hour', 'order_approved_at_day', 'order_approved_at_month']\n",
    "\n",
    "cyclical_features = creation.CyclicalFeatures(variables=cyclical_variables, max_values=None, drop_original=False)\n",
    "X_train = cyclical_features.fit_transform(X_train)\n",
    "X_valid = cyclical_features.transform(X_valid)\n",
    "X_oot = cyclical_features.transform(X_oot)"
   ]
  },
  {
   "cell_type": "markdown",
   "id": "70f4d6e6-369f-4887-bdfd-d5bd9bc4f271",
   "metadata": {},
   "source": [
    "## Removing Features"
   ]
  },
  {
   "cell_type": "code",
   "execution_count": 27,
   "id": "bdb1bc0d-3cd9-4e61-8cb3-a111274583c6",
   "metadata": {},
   "outputs": [],
   "source": [
    "drop_constant_features = selection.DropConstantFeatures(tol=.9, missing_values='include')\n",
    "X_train = drop_constant_features.fit_transform(X_train)\n",
    "X_valid = drop_constant_features.transform(X_valid)\n",
    "X_oot = drop_constant_features.transform(X_oot)"
   ]
  },
  {
   "cell_type": "markdown",
   "id": "b88b9a1b-962e-4283-9bf4-2735ef1f04dd",
   "metadata": {},
   "source": [
    "# Machine Learning Modeling"
   ]
  },
  {
   "cell_type": "markdown",
   "id": "853bba50-ec7a-46bb-b0d2-b0a0d2400efa",
   "metadata": {},
   "source": [
    "## LightGBM Regressor"
   ]
  },
  {
   "cell_type": "markdown",
   "id": "4d06f0df-a92d-46af-bf5f-01712124ae39",
   "metadata": {},
   "source": [
    "### First Hyperparameter Tuning"
   ]
  },
  {
   "cell_type": "code",
   "execution_count": 28,
   "id": "192d409a-d2f4-4658-a88d-0b9952d4ad6b",
   "metadata": {},
   "outputs": [],
   "source": [
    "categorical_columns = X_train.select_dtypes(include='object').columns.tolist()\n",
    "\n",
    "X_train[categorical_columns] = X_train[categorical_columns].astype('category')\n",
    "X_valid[categorical_columns] = X_valid[categorical_columns].astype('category')\n",
    "X_oot[categorical_columns] = X_oot[categorical_columns].astype('category')"
   ]
  },
  {
   "cell_type": "code",
   "execution_count": 29,
   "id": "84d3544c-ac9b-45e8-b9cc-93451a213107",
   "metadata": {},
   "outputs": [
    {
     "name": "stdout",
     "output_type": "stream",
     "text": [
      "Best hyperparameters: {'n_estimators': 900, 'learning_rate': 0.010423082977551295, 'num_leaves': 483, 'subsample': 0.9973738235367293, 'colsample_bytree': 0.29069604209315736, 'min_data_in_leaf': 89}\n",
      "Best RMSE: 7.959021074641135\n"
     ]
    }
   ],
   "source": [
    "def objective(trial):\n",
    "    \n",
    "    params = {\n",
    "        \"objective\": \"regression\",\n",
    "        \"metric\": \"rmse\",\n",
    "        \"verbosity\": -1,\n",
    "        \"bagging_freq\": 1,\n",
    "        \"n_estimators\": trial.suggest_int(\"n_estimators\", 100, 1100, 100),\n",
    "        \"learning_rate\": trial.suggest_float(\"learning_rate\", 1e-3, 0.1, log=True),\n",
    "        \"num_leaves\": trial.suggest_int(\"num_leaves\", 2, 2**10),\n",
    "        \"subsample\": trial.suggest_float(\"subsample\", 0.05, 1.0),\n",
    "        \"colsample_bytree\": trial.suggest_float(\"colsample_bytree\", 0.05, 1.0),\n",
    "        \"min_data_in_leaf\": trial.suggest_int(\"min_data_in_leaf\", 1, 100)}\n",
    "\n",
    "    model = LGBMRegressor(**params)\n",
    "    model.fit(X_train, y_train[target], eval_set=[(X_valid, y_valid[target])])\n",
    "    \n",
    "    pred = model.predict(X_valid)\n",
    "    \n",
    "    rmse = mean_squared_error(y_valid[target], pred, squared=False)\n",
    "    \n",
    "    return rmse\n",
    "\n",
    "\n",
    "optuna.logging.set_verbosity(optuna.logging.WARNING)\n",
    "study = optuna.create_study(direction='minimize')\n",
    "study.optimize(objective, n_trials=50)\n",
    "\n",
    "print('Best hyperparameters:', study.best_params)\n",
    "print('Best RMSE:', study.best_value)"
   ]
  },
  {
   "cell_type": "code",
   "execution_count": 29,
   "id": "ef7d9b82-cb8b-4d43-a78f-8625c1200b08",
   "metadata": {},
   "outputs": [
    {
     "name": "stdout",
     "output_type": "stream",
     "text": [
      "R2: 0.6728781531937398; RMSE: 5.751133988677527; MAE: 3.2097908244104363; MAPE: 11042359601898.428\n"
     ]
    }
   ],
   "source": [
    "params = {\n",
    "    'objective': 'regression',\n",
    "    'metric': 'rmse',\n",
    "    'verbosity': -1,\n",
    "    'bagging_freq': 1,\n",
    "    'n_estimators': 1100, \n",
    "    'learning_rate': 0.011378717939855917, \n",
    "    'num_leaves': 427, \n",
    "    'subsample': 0.4579686295441284, \n",
    "    'colsample_bytree': 0.7399913971559565, \n",
    "    'min_data_in_leaf': 61}\n",
    "\n",
    "lgbm = LGBMRegressor(**params)\n",
    "lgbm.fit(X_train, y_train[target], eval_set=[(X_valid, y_valid[target])])\n",
    "\n",
    "y_train['pred'] = lgbm.predict(X_train)\n",
    "get_metrics(y_train[target], y_train['pred'])"
   ]
  },
  {
   "cell_type": "code",
   "execution_count": 30,
   "id": "f236b379-2b2f-46c9-940a-51a479ddda96",
   "metadata": {},
   "outputs": [
    {
     "name": "stdout",
     "output_type": "stream",
     "text": [
      "R2: 0.33817845784683465; RMSE: 8.005861698807095; MAE: 4.946510480660707; MAPE: 16438778518079.934\n"
     ]
    }
   ],
   "source": [
    "y_valid['pred'] = lgbm.predict(X_valid)\n",
    "get_metrics(y_valid[target], y_valid['pred'])"
   ]
  },
  {
   "cell_type": "code",
   "execution_count": 31,
   "id": "6456f892-9482-483e-a5da-28897e3e1614",
   "metadata": {},
   "outputs": [
    {
     "name": "stdout",
     "output_type": "stream",
     "text": [
      "R2: -0.01719393884269138; RMSE: 5.856673421212382; MAE: 4.412780737285608; MAPE: 113331288272879.22\n"
     ]
    }
   ],
   "source": [
    "y_oot['pred'] = lgbm.predict(X_oot)\n",
    "get_metrics(y_oot[target], y_oot['pred'])"
   ]
  },
  {
   "cell_type": "markdown",
   "id": "c1fe1d30-d807-4f76-862f-c33c0ba9b407",
   "metadata": {},
   "source": [
    "### Feature Selection"
   ]
  },
  {
   "cell_type": "code",
   "execution_count": 32,
   "id": "db02b958-3686-435a-b4fe-0219de4d2645",
   "metadata": {
    "scrolled": true
   },
   "outputs": [],
   "source": [
    "smart_correlation_selection = selection.SmartCorrelatedSelection(\n",
    "    estimator=LGBMRegressor(**params), method='pearson', threshold=0.8, missing_values='ignore', \n",
    "    selection_method='model_performance', scoring='r2', cv=3)\n",
    "\n",
    "smart_correlation_selection.fit(X_train, y_train[target])\n",
    "features_to_drop = smart_correlation_selection.features_to_drop_"
   ]
  },
  {
   "cell_type": "code",
   "execution_count": 33,
   "id": "48c3c120-840c-4919-88f8-fe24e77fa33a",
   "metadata": {},
   "outputs": [
    {
     "data": {
      "text/html": [
       "<style>#sk-container-id-1 {color: black;background-color: white;}#sk-container-id-1 pre{padding: 0;}#sk-container-id-1 div.sk-toggleable {background-color: white;}#sk-container-id-1 label.sk-toggleable__label {cursor: pointer;display: block;width: 100%;margin-bottom: 0;padding: 0.3em;box-sizing: border-box;text-align: center;}#sk-container-id-1 label.sk-toggleable__label-arrow:before {content: \"▸\";float: left;margin-right: 0.25em;color: #696969;}#sk-container-id-1 label.sk-toggleable__label-arrow:hover:before {color: black;}#sk-container-id-1 div.sk-estimator:hover label.sk-toggleable__label-arrow:before {color: black;}#sk-container-id-1 div.sk-toggleable__content {max-height: 0;max-width: 0;overflow: hidden;text-align: left;background-color: #f0f8ff;}#sk-container-id-1 div.sk-toggleable__content pre {margin: 0.2em;color: black;border-radius: 0.25em;background-color: #f0f8ff;}#sk-container-id-1 input.sk-toggleable__control:checked~div.sk-toggleable__content {max-height: 200px;max-width: 100%;overflow: auto;}#sk-container-id-1 input.sk-toggleable__control:checked~label.sk-toggleable__label-arrow:before {content: \"▾\";}#sk-container-id-1 div.sk-estimator input.sk-toggleable__control:checked~label.sk-toggleable__label {background-color: #d4ebff;}#sk-container-id-1 div.sk-label input.sk-toggleable__control:checked~label.sk-toggleable__label {background-color: #d4ebff;}#sk-container-id-1 input.sk-hidden--visually {border: 0;clip: rect(1px 1px 1px 1px);clip: rect(1px, 1px, 1px, 1px);height: 1px;margin: -1px;overflow: hidden;padding: 0;position: absolute;width: 1px;}#sk-container-id-1 div.sk-estimator {font-family: monospace;background-color: #f0f8ff;border: 1px dotted black;border-radius: 0.25em;box-sizing: border-box;margin-bottom: 0.5em;}#sk-container-id-1 div.sk-estimator:hover {background-color: #d4ebff;}#sk-container-id-1 div.sk-parallel-item::after {content: \"\";width: 100%;border-bottom: 1px solid gray;flex-grow: 1;}#sk-container-id-1 div.sk-label:hover label.sk-toggleable__label {background-color: #d4ebff;}#sk-container-id-1 div.sk-serial::before {content: \"\";position: absolute;border-left: 1px solid gray;box-sizing: border-box;top: 0;bottom: 0;left: 50%;z-index: 0;}#sk-container-id-1 div.sk-serial {display: flex;flex-direction: column;align-items: center;background-color: white;padding-right: 0.2em;padding-left: 0.2em;position: relative;}#sk-container-id-1 div.sk-item {position: relative;z-index: 1;}#sk-container-id-1 div.sk-parallel {display: flex;align-items: stretch;justify-content: center;background-color: white;position: relative;}#sk-container-id-1 div.sk-item::before, #sk-container-id-1 div.sk-parallel-item::before {content: \"\";position: absolute;border-left: 1px solid gray;box-sizing: border-box;top: 0;bottom: 0;left: 50%;z-index: -1;}#sk-container-id-1 div.sk-parallel-item {display: flex;flex-direction: column;z-index: 1;position: relative;background-color: white;}#sk-container-id-1 div.sk-parallel-item:first-child::after {align-self: flex-end;width: 50%;}#sk-container-id-1 div.sk-parallel-item:last-child::after {align-self: flex-start;width: 50%;}#sk-container-id-1 div.sk-parallel-item:only-child::after {width: 0;}#sk-container-id-1 div.sk-dashed-wrapped {border: 1px dashed gray;margin: 0 0.4em 0.5em 0.4em;box-sizing: border-box;padding-bottom: 0.4em;background-color: white;}#sk-container-id-1 div.sk-label label {font-family: monospace;font-weight: bold;display: inline-block;line-height: 1.2em;}#sk-container-id-1 div.sk-label-container {text-align: center;}#sk-container-id-1 div.sk-container {/* jupyter's `normalize.less` sets `[hidden] { display: none; }` but bootstrap.min.css set `[hidden] { display: none !important; }` so we also need the `!important` here to be able to override the default hidden behavior on the sphinx rendered scikit-learn.org. See: https://github.com/scikit-learn/scikit-learn/issues/21755 */display: inline-block !important;position: relative;}#sk-container-id-1 div.sk-text-repr-fallback {display: none;}</style><div id=\"sk-container-id-1\" class=\"sk-top-container\"><div class=\"sk-text-repr-fallback\"><pre>SelectFromModel(estimator=LGBMRegressor(bagging_freq=1,\n",
       "                                        colsample_bytree=0.7399913971559565,\n",
       "                                        learning_rate=0.011378717939855917,\n",
       "                                        metric=&#x27;rmse&#x27;, min_data_in_leaf=61,\n",
       "                                        n_estimators=1100, num_leaves=427,\n",
       "                                        objective=&#x27;regression&#x27;,\n",
       "                                        subsample=0.4579686295441284,\n",
       "                                        verbosity=-1))</pre><b>In a Jupyter environment, please rerun this cell to show the HTML representation or trust the notebook. <br />On GitHub, the HTML representation is unable to render, please try loading this page with nbviewer.org.</b></div><div class=\"sk-container\" hidden><div class=\"sk-item sk-dashed-wrapped\"><div class=\"sk-label-container\"><div class=\"sk-label sk-toggleable\"><input class=\"sk-toggleable__control sk-hidden--visually\" id=\"sk-estimator-id-1\" type=\"checkbox\" ><label for=\"sk-estimator-id-1\" class=\"sk-toggleable__label sk-toggleable__label-arrow\">SelectFromModel</label><div class=\"sk-toggleable__content\"><pre>SelectFromModel(estimator=LGBMRegressor(bagging_freq=1,\n",
       "                                        colsample_bytree=0.7399913971559565,\n",
       "                                        learning_rate=0.011378717939855917,\n",
       "                                        metric=&#x27;rmse&#x27;, min_data_in_leaf=61,\n",
       "                                        n_estimators=1100, num_leaves=427,\n",
       "                                        objective=&#x27;regression&#x27;,\n",
       "                                        subsample=0.4579686295441284,\n",
       "                                        verbosity=-1))</pre></div></div></div><div class=\"sk-parallel\"><div class=\"sk-parallel-item\"><div class=\"sk-item\"><div class=\"sk-label-container\"><div class=\"sk-label sk-toggleable\"><input class=\"sk-toggleable__control sk-hidden--visually\" id=\"sk-estimator-id-2\" type=\"checkbox\" ><label for=\"sk-estimator-id-2\" class=\"sk-toggleable__label sk-toggleable__label-arrow\">estimator: LGBMRegressor</label><div class=\"sk-toggleable__content\"><pre>LGBMRegressor(bagging_freq=1, colsample_bytree=0.7399913971559565,\n",
       "              learning_rate=0.011378717939855917, metric=&#x27;rmse&#x27;,\n",
       "              min_data_in_leaf=61, n_estimators=1100, num_leaves=427,\n",
       "              objective=&#x27;regression&#x27;, subsample=0.4579686295441284,\n",
       "              verbosity=-1)</pre></div></div></div><div class=\"sk-serial\"><div class=\"sk-item\"><div class=\"sk-estimator sk-toggleable\"><input class=\"sk-toggleable__control sk-hidden--visually\" id=\"sk-estimator-id-3\" type=\"checkbox\" ><label for=\"sk-estimator-id-3\" class=\"sk-toggleable__label sk-toggleable__label-arrow\">LGBMRegressor</label><div class=\"sk-toggleable__content\"><pre>LGBMRegressor(bagging_freq=1, colsample_bytree=0.7399913971559565,\n",
       "              learning_rate=0.011378717939855917, metric=&#x27;rmse&#x27;,\n",
       "              min_data_in_leaf=61, n_estimators=1100, num_leaves=427,\n",
       "              objective=&#x27;regression&#x27;, subsample=0.4579686295441284,\n",
       "              verbosity=-1)</pre></div></div></div></div></div></div></div></div></div></div>"
      ],
      "text/plain": [
       "SelectFromModel(estimator=LGBMRegressor(bagging_freq=1,\n",
       "                                        colsample_bytree=0.7399913971559565,\n",
       "                                        learning_rate=0.011378717939855917,\n",
       "                                        metric='rmse', min_data_in_leaf=61,\n",
       "                                        n_estimators=1100, num_leaves=427,\n",
       "                                        objective='regression',\n",
       "                                        subsample=0.4579686295441284,\n",
       "                                        verbosity=-1))"
      ]
     },
     "execution_count": 33,
     "metadata": {},
     "output_type": "execute_result"
    }
   ],
   "source": [
    "sfm = SelectFromModel(estimator=LGBMRegressor(**params))\n",
    "sfm.fit(X_train.drop(features_to_drop, axis=1), y_train[target])"
   ]
  },
  {
   "cell_type": "code",
   "execution_count": 34,
   "id": "0ff9c4c9-76b3-4eea-82d8-2256f62b8e04",
   "metadata": {},
   "outputs": [
    {
     "data": {
      "text/plain": [
       "['customer_lat',\n",
       " 'customer_lng',\n",
       " 'distance_customer_seller_min',\n",
       " 'payment_value_median',\n",
       " 'freight_value_q25',\n",
       " 'product_name_lenght_q25',\n",
       " 'product_description_lenght_max',\n",
       " 'product_weight_g_q25',\n",
       " 'product_length_cm_q25',\n",
       " 'product_height_cm_q25',\n",
       " 'product_width_cm_mean',\n",
       " 'order_purchase_timestamp_second',\n",
       " 'order_purchase_timestamp_minute',\n",
       " 'order_approved_at_second',\n",
       " 'order_approved_at_minute',\n",
       " 'order_approved_at_month',\n",
       " 'order_purchase_timestamp_second_sin',\n",
       " 'order_purchase_timestamp_second_cos',\n",
       " 'order_purchase_timestamp_minute_sin',\n",
       " 'order_purchase_timestamp_minute_cos',\n",
       " 'order_purchase_timestamp_day_sin',\n",
       " 'order_purchase_timestamp_day_cos',\n",
       " 'order_approved_at_second_cos',\n",
       " 'order_approved_at_minute_cos',\n",
       " 'order_approved_at_day_sin',\n",
       " 'order_approved_at_month_cos']"
      ]
     },
     "execution_count": 34,
     "metadata": {},
     "output_type": "execute_result"
    }
   ],
   "source": [
    "list_selected_features = X_train.drop(features_to_drop, axis=1).loc[:, sfm.get_support()].columns.tolist()\n",
    "list_selected_features"
   ]
  },
  {
   "cell_type": "code",
   "execution_count": 35,
   "id": "2320bdd9-2ab6-4bde-a43c-8d0c86484aa3",
   "metadata": {},
   "outputs": [
    {
     "name": "stdout",
     "output_type": "stream",
     "text": [
      "R2: 0.6348625210701231; RMSE: 6.076128046004545; MAE: 3.4879302882248377; MAPE: 13229241891689.102\n"
     ]
    }
   ],
   "source": [
    "lgbm = LGBMRegressor(**params)\n",
    "lgbm.fit(X_train[list_selected_features], y_train[target], eval_set=[(X_valid[list_selected_features], y_valid[target])])\n",
    "\n",
    "y_train['pred'] = lgbm.predict(X_train[list_selected_features])\n",
    "get_metrics(y_train[target], y_train['pred'])"
   ]
  },
  {
   "cell_type": "code",
   "execution_count": 36,
   "id": "37803745-4067-4e54-9a08-b1fa74d203f3",
   "metadata": {},
   "outputs": [
    {
     "name": "stdout",
     "output_type": "stream",
     "text": [
      "R2: 0.3200246039464133; RMSE: 8.114919819959132; MAE: 5.040551831637703; MAPE: 18116873582724.41\n"
     ]
    }
   ],
   "source": [
    "y_valid['pred'] = lgbm.predict(X_valid[list_selected_features])\n",
    "get_metrics(y_valid[target], y_valid['pred'])"
   ]
  },
  {
   "cell_type": "code",
   "execution_count": 37,
   "id": "c0a13fc7-7a42-4148-bee2-a14e32dbca27",
   "metadata": {},
   "outputs": [
    {
     "name": "stdout",
     "output_type": "stream",
     "text": [
      "R2: -0.03943614416359775; RMSE: 5.920358872573379; MAE: 4.485979819157268; MAPE: 112070410889769.4\n"
     ]
    }
   ],
   "source": [
    "y_oot['pred'] = lgbm.predict(X_oot[list_selected_features])\n",
    "get_metrics(y_oot[target], y_oot['pred'])"
   ]
  },
  {
   "cell_type": "markdown",
   "id": "1bd28a48-807e-40f8-b34b-8368d9d00c58",
   "metadata": {},
   "source": [
    "### Second Hyperparamenter Tuning"
   ]
  },
  {
   "cell_type": "code",
   "execution_count": 39,
   "id": "7c322a6a-b569-409a-85cd-bb13976df73e",
   "metadata": {},
   "outputs": [
    {
     "name": "stdout",
     "output_type": "stream",
     "text": [
      "Best hyperparameters: {'n_estimators': 400, 'learning_rate': 0.020382096788539916, 'num_leaves': 244, 'subsample': 0.8154087943605954, 'colsample_bytree': 0.5830110427083977, 'min_data_in_leaf': 70}\n",
      "Best RMSE: 8.063905787150599\n"
     ]
    }
   ],
   "source": [
    "def objective(trial):\n",
    "    \n",
    "    params = {\n",
    "        \"objective\": \"regression\",\n",
    "        \"metric\": \"rmse\",\n",
    "        \"verbosity\": -1,\n",
    "        \"bagging_freq\": 1,\n",
    "        \"n_estimators\": trial.suggest_int(\"n_estimators\", 100, 1100, 100),\n",
    "        \"learning_rate\": trial.suggest_float(\"learning_rate\", 1e-3, 0.1, log=True),\n",
    "        \"num_leaves\": trial.suggest_int(\"num_leaves\", 2, 2**10),\n",
    "        \"subsample\": trial.suggest_float(\"subsample\", 0.05, 1.0),\n",
    "        \"colsample_bytree\": trial.suggest_float(\"colsample_bytree\", 0.05, 1.0),\n",
    "        \"min_data_in_leaf\": trial.suggest_int(\"min_data_in_leaf\", 1, 100)}\n",
    "\n",
    "    model = LGBMRegressor(**params)\n",
    "    model.fit(X_train[list_selected_features], y_train[target], eval_set=[(X_valid[list_selected_features], y_valid[target])])\n",
    "    \n",
    "    pred = model.predict(X_valid[list_selected_features])\n",
    "    \n",
    "    rmse = mean_squared_error(y_valid[target], pred, squared=False)\n",
    "    \n",
    "    return rmse\n",
    "\n",
    "\n",
    "optuna.logging.set_verbosity(optuna.logging.WARNING)\n",
    "study = optuna.create_study(direction='minimize')\n",
    "study.optimize(objective, n_trials=50)\n",
    "\n",
    "print('Best hyperparameters:', study.best_params)\n",
    "print('Best RMSE:', study.best_value)"
   ]
  },
  {
   "cell_type": "code",
   "execution_count": 38,
   "id": "58982384-ab9b-4f4a-8853-a7472351a28b",
   "metadata": {},
   "outputs": [
    {
     "name": "stdout",
     "output_type": "stream",
     "text": [
      "R2: 0.6978021956639224; RMSE: 5.527698707784576; MAE: 3.0920630972896177; MAPE: 11495817118699.531\n"
     ]
    }
   ],
   "source": [
    "params = {\n",
    "    'objective': 'regression',\n",
    "    'metric': 'rmse',\n",
    "    'verbosity': -1,\n",
    "    'bagging_freq': 1,\n",
    "    'n_estimators': 900, \n",
    "    'learning_rate': 0.008118480150159538, \n",
    "    'num_leaves': 688, \n",
    "    'subsample': 0.9353531783366564, \n",
    "    'colsample_bytree': 0.7738499976876134, \n",
    "    'min_data_in_leaf': 59}\n",
    "\n",
    "lgbm = LGBMRegressor(**params)\n",
    "lgbm.fit(X_train[list_selected_features], y_train[target], eval_set=[(X_valid[list_selected_features], y_valid[target])])\n",
    "\n",
    "y_train['pred'] = lgbm.predict(X_train[list_selected_features])\n",
    "get_metrics(y_train[target], y_train['pred'])"
   ]
  },
  {
   "cell_type": "code",
   "execution_count": 39,
   "id": "6bd2a8ed-a0b2-445d-8e12-4cda63045e85",
   "metadata": {},
   "outputs": [
    {
     "name": "stdout",
     "output_type": "stream",
     "text": [
      "R2: 0.3281680481669794; RMSE: 8.066180964022717; MAE: 4.988865654969408; MAPE: 17326268042920.322\n"
     ]
    }
   ],
   "source": [
    "y_valid['pred'] = lgbm.predict(X_valid[list_selected_features])\n",
    "get_metrics(y_valid[target], y_valid['pred'])"
   ]
  },
  {
   "cell_type": "code",
   "execution_count": 40,
   "id": "e75c130d-63b7-424e-a28d-28995092403d",
   "metadata": {},
   "outputs": [
    {
     "name": "stdout",
     "output_type": "stream",
     "text": [
      "R2: -0.02495971288005361; RMSE: 5.878987319800829; MAE: 4.455255133836068; MAPE: 113874331410879.48\n"
     ]
    }
   ],
   "source": [
    "y_oot['pred'] = lgbm.predict(X_oot[list_selected_features])\n",
    "get_metrics(y_oot[target], y_oot['pred'])"
   ]
  },
  {
   "cell_type": "markdown",
   "id": "8b5a1de8-64e8-4711-a88e-67bf2eb1a12d",
   "metadata": {},
   "source": [
    "## CatBoost Regressor"
   ]
  },
  {
   "cell_type": "markdown",
   "id": "05ad82a0-8386-4477-85fb-42195ab05fed",
   "metadata": {},
   "source": [
    "### First Hyperparameter Tuning"
   ]
  },
  {
   "cell_type": "code",
   "execution_count": 76,
   "id": "e4fe8a1e-7a92-4d65-9d01-1ae772aacf73",
   "metadata": {},
   "outputs": [
    {
     "name": "stdout",
     "output_type": "stream",
     "text": [
      "Best hyperparameters: {'learning_rate': 0.049147652406925736, 'depth': 8, 'subsample': 0.9036551832381197, 'colsample_bylevel': 0.917615199466539, 'min_data_in_leaf': 32}\n",
      "Best RMSE: 8.053795066486012\n"
     ]
    }
   ],
   "source": [
    "def objective(trial):\n",
    "    \n",
    "    params = {\n",
    "        \"iterations\": 1000,\n",
    "        \"learning_rate\": trial.suggest_float(\"learning_rate\", 1e-3, 0.1, log=True),\n",
    "        \"depth\": trial.suggest_int(\"depth\", 1, 10),\n",
    "        \"subsample\": trial.suggest_float(\"subsample\", 0.05, 1.0),\n",
    "        \"colsample_bylevel\": trial.suggest_float(\"colsample_bylevel\", 0.05, 1.0),\n",
    "        \"min_data_in_leaf\": trial.suggest_int(\"min_data_in_leaf\", 1, 100)}\n",
    "\n",
    "    model = CatBoostRegressor(**params, silent=True)\n",
    "    model.fit(X_train, y_train[target], eval_set=(X_valid, y_valid[target]), cat_features=categorical_columns)\n",
    "    \n",
    "    pred = model.predict(X_valid)\n",
    "    \n",
    "    rmse = mean_squared_error(y_valid[target], pred, squared=False)\n",
    "    \n",
    "    return rmse\n",
    "\n",
    "\n",
    "optuna.logging.set_verbosity(optuna.logging.WARNING)\n",
    "study = optuna.create_study(direction='minimize')\n",
    "study.optimize(objective, n_trials=20)\n",
    "\n",
    "print('Best hyperparameters:', study.best_params)\n",
    "print('Best RMSE:', study.best_value)"
   ]
  },
  {
   "cell_type": "code",
   "execution_count": 41,
   "id": "a5fa96ee-2f23-42bb-b6ac-d6086bd1a2c9",
   "metadata": {},
   "outputs": [
    {
     "name": "stdout",
     "output_type": "stream",
     "text": [
      "R2: 0.5034711810750512; RMSE: 7.08550716087213; MAE: 4.563275947641302; MAPE: 16917190367621.32\n"
     ]
    }
   ],
   "source": [
    "params = {\n",
    "    \"iterations\": 1000,\n",
    "    'learning_rate': 0.049147652406925736, \n",
    "    'depth': 8, \n",
    "    'subsample': 0.9036551832381197, \n",
    "    'colsample_bylevel': 0.917615199466539, \n",
    "    'min_data_in_leaf': 32}\n",
    "\n",
    "cat = CatBoostRegressor(**params, silent=True)\n",
    "cat.fit(X_train, y_train[target], eval_set=(X_valid, y_valid[target]), cat_features=categorical_columns)\n",
    "\n",
    "y_train['pred'] = cat.predict(X_train)\n",
    "get_metrics(y_train[target], y_train['pred'])"
   ]
  },
  {
   "cell_type": "code",
   "execution_count": 42,
   "id": "7eed5801-165d-48d7-9bfc-cf98bbd778d6",
   "metadata": {},
   "outputs": [
    {
     "name": "stdout",
     "output_type": "stream",
     "text": [
      "R2: 0.3302297060886995; RMSE: 8.053795066486012; MAE: 4.988417447703706; MAPE: 14702599834413.18\n"
     ]
    }
   ],
   "source": [
    "y_valid['pred'] = cat.predict(X_valid)\n",
    "get_metrics(y_valid[target], y_valid['pred'])"
   ]
  },
  {
   "cell_type": "code",
   "execution_count": 43,
   "id": "c2aeeea3-212d-4ca7-bdbe-8a36d5dd7156",
   "metadata": {},
   "outputs": [
    {
     "name": "stdout",
     "output_type": "stream",
     "text": [
      "R2: 0.03686249757026927; RMSE: 5.698929344830773; MAE: 4.282255209953718; MAPE: 111157168787108.56\n"
     ]
    }
   ],
   "source": [
    "y_oot['pred'] = cat.predict(X_oot)\n",
    "get_metrics(y_oot[target], y_oot['pred'])"
   ]
  },
  {
   "cell_type": "markdown",
   "id": "546978bd-9a49-4891-8777-3e561b00051b",
   "metadata": {},
   "source": [
    "### Feature Selection"
   ]
  },
  {
   "cell_type": "code",
   "execution_count": 44,
   "id": "a990cc50-4f26-43eb-b02f-67ca59cae133",
   "metadata": {},
   "outputs": [],
   "source": [
    "smart_correlation_selection = selection.SmartCorrelatedSelection(\n",
    "    estimator=CatBoostRegressor(**params, silent=True), method='pearson', threshold=0.8, missing_values='ignore', \n",
    "    selection_method='model_performance', scoring='r2', cv=3)\n",
    "\n",
    "smart_correlation_selection.fit(X_train, y_train[target])\n",
    "features_to_drop = smart_correlation_selection.features_to_drop_"
   ]
  },
  {
   "cell_type": "code",
   "execution_count": 45,
   "id": "fdde0280-3fc4-41da-b917-dcec6e41119e",
   "metadata": {},
   "outputs": [
    {
     "data": {
      "text/html": [
       "<style>#sk-container-id-2 {color: black;background-color: white;}#sk-container-id-2 pre{padding: 0;}#sk-container-id-2 div.sk-toggleable {background-color: white;}#sk-container-id-2 label.sk-toggleable__label {cursor: pointer;display: block;width: 100%;margin-bottom: 0;padding: 0.3em;box-sizing: border-box;text-align: center;}#sk-container-id-2 label.sk-toggleable__label-arrow:before {content: \"▸\";float: left;margin-right: 0.25em;color: #696969;}#sk-container-id-2 label.sk-toggleable__label-arrow:hover:before {color: black;}#sk-container-id-2 div.sk-estimator:hover label.sk-toggleable__label-arrow:before {color: black;}#sk-container-id-2 div.sk-toggleable__content {max-height: 0;max-width: 0;overflow: hidden;text-align: left;background-color: #f0f8ff;}#sk-container-id-2 div.sk-toggleable__content pre {margin: 0.2em;color: black;border-radius: 0.25em;background-color: #f0f8ff;}#sk-container-id-2 input.sk-toggleable__control:checked~div.sk-toggleable__content {max-height: 200px;max-width: 100%;overflow: auto;}#sk-container-id-2 input.sk-toggleable__control:checked~label.sk-toggleable__label-arrow:before {content: \"▾\";}#sk-container-id-2 div.sk-estimator input.sk-toggleable__control:checked~label.sk-toggleable__label {background-color: #d4ebff;}#sk-container-id-2 div.sk-label input.sk-toggleable__control:checked~label.sk-toggleable__label {background-color: #d4ebff;}#sk-container-id-2 input.sk-hidden--visually {border: 0;clip: rect(1px 1px 1px 1px);clip: rect(1px, 1px, 1px, 1px);height: 1px;margin: -1px;overflow: hidden;padding: 0;position: absolute;width: 1px;}#sk-container-id-2 div.sk-estimator {font-family: monospace;background-color: #f0f8ff;border: 1px dotted black;border-radius: 0.25em;box-sizing: border-box;margin-bottom: 0.5em;}#sk-container-id-2 div.sk-estimator:hover {background-color: #d4ebff;}#sk-container-id-2 div.sk-parallel-item::after {content: \"\";width: 100%;border-bottom: 1px solid gray;flex-grow: 1;}#sk-container-id-2 div.sk-label:hover label.sk-toggleable__label {background-color: #d4ebff;}#sk-container-id-2 div.sk-serial::before {content: \"\";position: absolute;border-left: 1px solid gray;box-sizing: border-box;top: 0;bottom: 0;left: 50%;z-index: 0;}#sk-container-id-2 div.sk-serial {display: flex;flex-direction: column;align-items: center;background-color: white;padding-right: 0.2em;padding-left: 0.2em;position: relative;}#sk-container-id-2 div.sk-item {position: relative;z-index: 1;}#sk-container-id-2 div.sk-parallel {display: flex;align-items: stretch;justify-content: center;background-color: white;position: relative;}#sk-container-id-2 div.sk-item::before, #sk-container-id-2 div.sk-parallel-item::before {content: \"\";position: absolute;border-left: 1px solid gray;box-sizing: border-box;top: 0;bottom: 0;left: 50%;z-index: -1;}#sk-container-id-2 div.sk-parallel-item {display: flex;flex-direction: column;z-index: 1;position: relative;background-color: white;}#sk-container-id-2 div.sk-parallel-item:first-child::after {align-self: flex-end;width: 50%;}#sk-container-id-2 div.sk-parallel-item:last-child::after {align-self: flex-start;width: 50%;}#sk-container-id-2 div.sk-parallel-item:only-child::after {width: 0;}#sk-container-id-2 div.sk-dashed-wrapped {border: 1px dashed gray;margin: 0 0.4em 0.5em 0.4em;box-sizing: border-box;padding-bottom: 0.4em;background-color: white;}#sk-container-id-2 div.sk-label label {font-family: monospace;font-weight: bold;display: inline-block;line-height: 1.2em;}#sk-container-id-2 div.sk-label-container {text-align: center;}#sk-container-id-2 div.sk-container {/* jupyter's `normalize.less` sets `[hidden] { display: none; }` but bootstrap.min.css set `[hidden] { display: none !important; }` so we also need the `!important` here to be able to override the default hidden behavior on the sphinx rendered scikit-learn.org. See: https://github.com/scikit-learn/scikit-learn/issues/21755 */display: inline-block !important;position: relative;}#sk-container-id-2 div.sk-text-repr-fallback {display: none;}</style><div id=\"sk-container-id-2\" class=\"sk-top-container\"><div class=\"sk-text-repr-fallback\"><pre>SelectFromModel(estimator=&lt;catboost.core.CatBoostRegressor object at 0x7f6025950280&gt;)</pre><b>In a Jupyter environment, please rerun this cell to show the HTML representation or trust the notebook. <br />On GitHub, the HTML representation is unable to render, please try loading this page with nbviewer.org.</b></div><div class=\"sk-container\" hidden><div class=\"sk-item sk-dashed-wrapped\"><div class=\"sk-label-container\"><div class=\"sk-label sk-toggleable\"><input class=\"sk-toggleable__control sk-hidden--visually\" id=\"sk-estimator-id-4\" type=\"checkbox\" ><label for=\"sk-estimator-id-4\" class=\"sk-toggleable__label sk-toggleable__label-arrow\">SelectFromModel</label><div class=\"sk-toggleable__content\"><pre>SelectFromModel(estimator=&lt;catboost.core.CatBoostRegressor object at 0x7f6025950280&gt;)</pre></div></div></div><div class=\"sk-parallel\"><div class=\"sk-parallel-item\"><div class=\"sk-item\"><div class=\"sk-label-container\"><div class=\"sk-label sk-toggleable\"><input class=\"sk-toggleable__control sk-hidden--visually\" id=\"sk-estimator-id-5\" type=\"checkbox\" ><label for=\"sk-estimator-id-5\" class=\"sk-toggleable__label sk-toggleable__label-arrow\">estimator: CatBoostRegressor</label><div class=\"sk-toggleable__content\"><pre>&lt;catboost.core.CatBoostRegressor object at 0x7f6025950280&gt;</pre></div></div></div><div class=\"sk-serial\"><div class=\"sk-item\"><div class=\"sk-estimator sk-toggleable\"><input class=\"sk-toggleable__control sk-hidden--visually\" id=\"sk-estimator-id-6\" type=\"checkbox\" ><label for=\"sk-estimator-id-6\" class=\"sk-toggleable__label sk-toggleable__label-arrow\">CatBoostRegressor</label><div class=\"sk-toggleable__content\"><pre>&lt;catboost.core.CatBoostRegressor object at 0x7f6025950280&gt;</pre></div></div></div></div></div></div></div></div></div></div>"
      ],
      "text/plain": [
       "SelectFromModel(estimator=<catboost.core.CatBoostRegressor object at 0x7f6025950280>)"
      ]
     },
     "execution_count": 45,
     "metadata": {},
     "output_type": "execute_result"
    }
   ],
   "source": [
    "categorical_columns = X_train.drop(features_to_drop, axis=1).select_dtypes(include='category').columns.tolist()\n",
    "\n",
    "sfm = SelectFromModel(estimator=CatBoostRegressor(**params, silent=True))\n",
    "sfm.fit(X_train.drop(features_to_drop, axis=1), y_train[target], cat_features=categorical_columns)"
   ]
  },
  {
   "cell_type": "code",
   "execution_count": 46,
   "id": "867a70e9-f09b-47d8-a524-d75fbfff1722",
   "metadata": {},
   "outputs": [
    {
     "data": {
      "text/plain": [
       "['customer_state',\n",
       " 'customer_lat',\n",
       " 'customer_lng',\n",
       " 'distance_customer_seller_min',\n",
       " 'freight_value_mean',\n",
       " 'product_description_lenght_min',\n",
       " 'product_weight_g_median',\n",
       " 'product_length_cm_min',\n",
       " 'product_height_cm_q25',\n",
       " 'product_width_cm_median',\n",
       " 'order_approved_at_month',\n",
       " 'customer_state_te',\n",
       " 'order_approved_at_day_sin',\n",
       " 'order_approved_at_month_sin',\n",
       " 'order_approved_at_month_cos']"
      ]
     },
     "execution_count": 46,
     "metadata": {},
     "output_type": "execute_result"
    }
   ],
   "source": [
    "list_selected_features = X_train.drop(features_to_drop, axis=1).loc[:, sfm.get_support()].columns.tolist()\n",
    "list_selected_features"
   ]
  },
  {
   "cell_type": "code",
   "execution_count": 47,
   "id": "4119c2cc-6799-4b9f-9915-2c56e6d6085a",
   "metadata": {},
   "outputs": [
    {
     "name": "stdout",
     "output_type": "stream",
     "text": [
      "R2: 0.4890050805174143; RMSE: 7.187982353076853; MAE: 4.592832928639535; MAPE: 20659511235101.96\n"
     ]
    }
   ],
   "source": [
    "cat = CatBoostRegressor(**params, silent=True)\n",
    "cat.fit(X_train[list_selected_features], y_train[target], eval_set=[(X_valid[list_selected_features], y_valid[target])], cat_features=['customer_state'])\n",
    "\n",
    "y_train['pred'] = cat.predict(X_train[list_selected_features])\n",
    "get_metrics(y_train[target], y_train['pred'])"
   ]
  },
  {
   "cell_type": "code",
   "execution_count": 48,
   "id": "1cdc466e-069e-4d1d-ad27-d14b83a05dd4",
   "metadata": {},
   "outputs": [
    {
     "name": "stdout",
     "output_type": "stream",
     "text": [
      "R2: 0.32209574033182176; RMSE: 8.102551781706396; MAE: 5.030642195062608; MAPE: 17046707816620.47\n"
     ]
    }
   ],
   "source": [
    "y_valid['pred'] = cat.predict(X_valid[list_selected_features])\n",
    "get_metrics(y_valid[target], y_valid['pred'])"
   ]
  },
  {
   "cell_type": "code",
   "execution_count": 49,
   "id": "9c15c475-406c-4ad4-8ef4-938a48a2ded5",
   "metadata": {},
   "outputs": [
    {
     "name": "stdout",
     "output_type": "stream",
     "text": [
      "R2: 0.028007982851345647; RMSE: 5.725065699195492; MAE: 4.315407505841507; MAPE: 119781265632827.89\n"
     ]
    }
   ],
   "source": [
    "y_oot['pred'] = cat.predict(X_oot[list_selected_features])\n",
    "get_metrics(y_oot[target], y_oot['pred'])"
   ]
  },
  {
   "cell_type": "markdown",
   "id": "9fa00722-1b58-4421-acf8-ed8ab3e659d5",
   "metadata": {},
   "source": [
    "### Second Hyperparameter Tuning"
   ]
  },
  {
   "cell_type": "code",
   "execution_count": 67,
   "id": "4b9d4669-fae2-4ff5-abc1-bb38fdee9a52",
   "metadata": {},
   "outputs": [
    {
     "name": "stdout",
     "output_type": "stream",
     "text": [
      "Best hyperparameters: {'learning_rate': 0.05351881469428861, 'depth': 9, 'subsample': 0.9516550467115146, 'colsample_bylevel': 0.27094725636766614, 'min_data_in_leaf': 53}\n",
      "Best RMSE: 8.081444359712796\n"
     ]
    }
   ],
   "source": [
    "def objective(trial):\n",
    "    \n",
    "    params = {\n",
    "        \"iterations\": 1000,\n",
    "        \"learning_rate\": trial.suggest_float(\"learning_rate\", 1e-3, 0.1, log=True),\n",
    "        \"depth\": trial.suggest_int(\"depth\", 1, 10),\n",
    "        \"subsample\": trial.suggest_float(\"subsample\", 0.05, 1.0),\n",
    "        \"colsample_bylevel\": trial.suggest_float(\"colsample_bylevel\", 0.05, 1.0),\n",
    "        \"min_data_in_leaf\": trial.suggest_int(\"min_data_in_leaf\", 1, 100)}\n",
    "\n",
    "    model = CatBoostRegressor(**params, silent=True)\n",
    "    model.fit(X_train[list_selected_features], y_train[target], eval_set=(X_valid[list_selected_features], y_valid[target]), cat_features=['customer_state'])\n",
    "    \n",
    "    pred = model.predict(X_valid[list_selected_features])\n",
    "    \n",
    "    rmse = mean_squared_error(y_valid[target], pred, squared=False)\n",
    "    \n",
    "    return rmse\n",
    "\n",
    "\n",
    "optuna.logging.set_verbosity(optuna.logging.WARNING)\n",
    "study = optuna.create_study(direction='minimize')\n",
    "study.optimize(objective, n_trials=50)\n",
    "\n",
    "print('Best hyperparameters:', study.best_params)\n",
    "print('Best RMSE:', study.best_value)"
   ]
  },
  {
   "cell_type": "code",
   "execution_count": 50,
   "id": "bd424399-730b-43a4-9be0-cae965081f00",
   "metadata": {},
   "outputs": [
    {
     "name": "stdout",
     "output_type": "stream",
     "text": [
      "R2: 0.5408639483051971; RMSE: 6.813486640530221; MAE: 4.348018743305445; MAPE: 19309647298421.598\n"
     ]
    }
   ],
   "source": [
    "params = {\n",
    "    'iterations': 1000,\n",
    "    'learning_rate': 0.05351881469428861, \n",
    "    'depth': 9, \n",
    "    'subsample': 0.9516550467115146, \n",
    "    'colsample_bylevel': 0.27094725636766614, \n",
    "    'min_data_in_leaf': 53}\n",
    "\n",
    "cat = CatBoostRegressor(**params, silent=True)\n",
    "cat.fit(X_train[list_selected_features], y_train[target], eval_set=[(X_valid[list_selected_features], y_valid[target])], cat_features=['customer_state'])\n",
    "\n",
    "y_train['pred'] = cat.predict(X_train[list_selected_features])\n",
    "get_metrics(y_train[target], y_train['pred'])"
   ]
  },
  {
   "cell_type": "code",
   "execution_count": 51,
   "id": "4d5d0695-4481-468d-b145-d39dc7637c52",
   "metadata": {},
   "outputs": [
    {
     "name": "stdout",
     "output_type": "stream",
     "text": [
      "R2: 0.3256230670792244; RMSE: 8.081444359712796; MAE: 5.0086528709622025; MAPE: 17684597549739.27\n"
     ]
    }
   ],
   "source": [
    "y_valid['pred'] = cat.predict(X_valid[list_selected_features])\n",
    "get_metrics(y_valid[target], y_valid['pred'])"
   ]
  },
  {
   "cell_type": "code",
   "execution_count": 52,
   "id": "f4318e66-a0eb-41cb-86be-182c6c650845",
   "metadata": {},
   "outputs": [
    {
     "name": "stdout",
     "output_type": "stream",
     "text": [
      "R2: 0.007783406341990151; RMSE: 5.784320769106498; MAE: 4.366519553256405; MAPE: 117310934663513.48\n"
     ]
    }
   ],
   "source": [
    "y_oot['pred'] = cat.predict(X_oot[list_selected_features])\n",
    "get_metrics(y_oot[target], y_oot['pred'])"
   ]
  },
  {
   "cell_type": "markdown",
   "id": "ec4aaf6f-6283-4141-aa82-9b68a639a0eb",
   "metadata": {},
   "source": [
    "## XGBoost Regressor"
   ]
  },
  {
   "cell_type": "markdown",
   "id": "2a364fbf-0411-4a35-b55f-0aa26e9701cf",
   "metadata": {},
   "source": [
    "### First Hyperparameter Tuning"
   ]
  },
  {
   "cell_type": "code",
   "execution_count": 64,
   "id": "7002a62e-6cee-4cb9-8a68-8c344465b94b",
   "metadata": {},
   "outputs": [
    {
     "name": "stdout",
     "output_type": "stream",
     "text": [
      "Best hyperparameters: {'n_estimators': 900, 'learning_rate': 0.022673068248214003, 'max_depth': 9, 'subsample': 0.8722490606664792, 'colsample_bytree': 0.29378036508860195, 'min_child_weight': 14}\n",
      "Best RMSE: 8.009021217419246\n"
     ]
    }
   ],
   "source": [
    "def objective(trial):\n",
    "    \n",
    "    params = {\n",
    "        \"enable_categorical\": True,\n",
    "        \"n_estimators\": trial.suggest_int(\"n_estimators\", 100, 1100, 100),\n",
    "        \"learning_rate\": trial.suggest_float(\"learning_rate\", 1e-3, 0.1, log=True),\n",
    "        \"max_depth\": trial.suggest_int(\"max_depth\", 1, 10),\n",
    "        \"subsample\": trial.suggest_float(\"subsample\", 0.05, 1.0),\n",
    "        \"colsample_bytree\": trial.suggest_float(\"colsample_bytree\", 0.05, 1.0),\n",
    "        \"min_child_weight\": trial.suggest_int(\"min_child_weight\", 1, 20)}\n",
    "\n",
    "    model = XGBRegressor(**params)\n",
    "    model.fit(X_train, y_train[target], eval_set=[(X_valid, y_valid[target])], verbose=False)\n",
    "    \n",
    "    pred = model.predict(X_valid)\n",
    "    \n",
    "    rmse = mean_squared_error(y_valid[target], pred, squared=False)\n",
    "    \n",
    "    return rmse\n",
    "\n",
    "\n",
    "optuna.logging.set_verbosity(optuna.logging.WARNING)\n",
    "study = optuna.create_study(direction='minimize')\n",
    "study.optimize(objective, n_trials=20)\n",
    "\n",
    "print('Best hyperparameters:', study.best_params)\n",
    "print('Best RMSE:', study.best_value)"
   ]
  },
  {
   "cell_type": "code",
   "execution_count": 69,
   "id": "b0b324be-5c12-4a79-babf-7d21aeb9d690",
   "metadata": {},
   "outputs": [
    {
     "name": "stdout",
     "output_type": "stream",
     "text": [
      "R2: 0.7430105293934549; RMSE: 5.097489923782381; MAE: 3.2064325179608955; MAPE: 10365496999388.264\n"
     ]
    }
   ],
   "source": [
    "params = {\n",
    "    'enable_categorical': True,\n",
    "    'n_estimators': 900, \n",
    "    'learning_rate': 0.022673068248214003, \n",
    "    'max_depth': 9, \n",
    "    'subsample': 0.8722490606664792, \n",
    "    'colsample_bytree': 0.29378036508860195, \n",
    "    'min_child_weight': 14}\n",
    "\n",
    "xgb = XGBRegressor(**params)\n",
    "xgb.fit(X_train, y_train[target], eval_set=[(X_valid, y_valid[target])], verbose=False)\n",
    "\n",
    "y_train['pred'] = xgb.predict(X_train)\n",
    "get_metrics(y_train[target], y_train['pred'])"
   ]
  },
  {
   "cell_type": "code",
   "execution_count": 71,
   "id": "df151d75-315e-47fc-918c-82016077624f",
   "metadata": {},
   "outputs": [
    {
     "name": "stdout",
     "output_type": "stream",
     "text": [
      "R2: 0.33765597815040693; RMSE: 8.009021217419246; MAE: 4.9638183547212; MAPE: 15785667750180.973\n"
     ]
    }
   ],
   "source": [
    "y_valid['pred'] = xgb.predict(X_valid)\n",
    "get_metrics(y_valid[target], y_valid['pred'])"
   ]
  },
  {
   "cell_type": "code",
   "execution_count": 72,
   "id": "9e478a80-b6fd-4998-87b6-94a159603472",
   "metadata": {},
   "outputs": [
    {
     "name": "stdout",
     "output_type": "stream",
     "text": [
      "R2: -0.009679510423542537; RMSE: 5.835000497161472; MAE: 4.393491828780607; MAPE: 116191188135825.69\n"
     ]
    }
   ],
   "source": [
    "y_oot['pred'] = xgb.predict(X_oot)\n",
    "get_metrics(y_oot[target], y_oot['pred'])"
   ]
  },
  {
   "cell_type": "markdown",
   "id": "3b4a2f4b-82f5-433a-bc0e-02d4571f9202",
   "metadata": {},
   "source": [
    "### Feature Selecion"
   ]
  },
  {
   "cell_type": "code",
   "execution_count": 73,
   "id": "74f96dfb-eb85-4e98-bc1e-cc1a289b95e7",
   "metadata": {},
   "outputs": [],
   "source": [
    "smart_correlation_selection = selection.SmartCorrelatedSelection(\n",
    "    estimator=XGBRegressor(**params), method='pearson', threshold=0.8, missing_values='ignore', \n",
    "    selection_method='model_performance', scoring='r2', cv=3)\n",
    "\n",
    "smart_correlation_selection.fit(X_train, y_train[target])\n",
    "features_to_drop = smart_correlation_selection.features_to_drop_"
   ]
  },
  {
   "cell_type": "code",
   "execution_count": 75,
   "id": "e83f5d94-5f81-4cae-9cae-61160f10b7ef",
   "metadata": {},
   "outputs": [
    {
     "data": {
      "text/html": [
       "<style>#sk-container-id-3 {color: black;background-color: white;}#sk-container-id-3 pre{padding: 0;}#sk-container-id-3 div.sk-toggleable {background-color: white;}#sk-container-id-3 label.sk-toggleable__label {cursor: pointer;display: block;width: 100%;margin-bottom: 0;padding: 0.3em;box-sizing: border-box;text-align: center;}#sk-container-id-3 label.sk-toggleable__label-arrow:before {content: \"▸\";float: left;margin-right: 0.25em;color: #696969;}#sk-container-id-3 label.sk-toggleable__label-arrow:hover:before {color: black;}#sk-container-id-3 div.sk-estimator:hover label.sk-toggleable__label-arrow:before {color: black;}#sk-container-id-3 div.sk-toggleable__content {max-height: 0;max-width: 0;overflow: hidden;text-align: left;background-color: #f0f8ff;}#sk-container-id-3 div.sk-toggleable__content pre {margin: 0.2em;color: black;border-radius: 0.25em;background-color: #f0f8ff;}#sk-container-id-3 input.sk-toggleable__control:checked~div.sk-toggleable__content {max-height: 200px;max-width: 100%;overflow: auto;}#sk-container-id-3 input.sk-toggleable__control:checked~label.sk-toggleable__label-arrow:before {content: \"▾\";}#sk-container-id-3 div.sk-estimator input.sk-toggleable__control:checked~label.sk-toggleable__label {background-color: #d4ebff;}#sk-container-id-3 div.sk-label input.sk-toggleable__control:checked~label.sk-toggleable__label {background-color: #d4ebff;}#sk-container-id-3 input.sk-hidden--visually {border: 0;clip: rect(1px 1px 1px 1px);clip: rect(1px, 1px, 1px, 1px);height: 1px;margin: -1px;overflow: hidden;padding: 0;position: absolute;width: 1px;}#sk-container-id-3 div.sk-estimator {font-family: monospace;background-color: #f0f8ff;border: 1px dotted black;border-radius: 0.25em;box-sizing: border-box;margin-bottom: 0.5em;}#sk-container-id-3 div.sk-estimator:hover {background-color: #d4ebff;}#sk-container-id-3 div.sk-parallel-item::after {content: \"\";width: 100%;border-bottom: 1px solid gray;flex-grow: 1;}#sk-container-id-3 div.sk-label:hover label.sk-toggleable__label {background-color: #d4ebff;}#sk-container-id-3 div.sk-serial::before {content: \"\";position: absolute;border-left: 1px solid gray;box-sizing: border-box;top: 0;bottom: 0;left: 50%;z-index: 0;}#sk-container-id-3 div.sk-serial {display: flex;flex-direction: column;align-items: center;background-color: white;padding-right: 0.2em;padding-left: 0.2em;position: relative;}#sk-container-id-3 div.sk-item {position: relative;z-index: 1;}#sk-container-id-3 div.sk-parallel {display: flex;align-items: stretch;justify-content: center;background-color: white;position: relative;}#sk-container-id-3 div.sk-item::before, #sk-container-id-3 div.sk-parallel-item::before {content: \"\";position: absolute;border-left: 1px solid gray;box-sizing: border-box;top: 0;bottom: 0;left: 50%;z-index: -1;}#sk-container-id-3 div.sk-parallel-item {display: flex;flex-direction: column;z-index: 1;position: relative;background-color: white;}#sk-container-id-3 div.sk-parallel-item:first-child::after {align-self: flex-end;width: 50%;}#sk-container-id-3 div.sk-parallel-item:last-child::after {align-self: flex-start;width: 50%;}#sk-container-id-3 div.sk-parallel-item:only-child::after {width: 0;}#sk-container-id-3 div.sk-dashed-wrapped {border: 1px dashed gray;margin: 0 0.4em 0.5em 0.4em;box-sizing: border-box;padding-bottom: 0.4em;background-color: white;}#sk-container-id-3 div.sk-label label {font-family: monospace;font-weight: bold;display: inline-block;line-height: 1.2em;}#sk-container-id-3 div.sk-label-container {text-align: center;}#sk-container-id-3 div.sk-container {/* jupyter's `normalize.less` sets `[hidden] { display: none; }` but bootstrap.min.css set `[hidden] { display: none !important; }` so we also need the `!important` here to be able to override the default hidden behavior on the sphinx rendered scikit-learn.org. See: https://github.com/scikit-learn/scikit-learn/issues/21755 */display: inline-block !important;position: relative;}#sk-container-id-3 div.sk-text-repr-fallback {display: none;}</style><div id=\"sk-container-id-3\" class=\"sk-top-container\"><div class=\"sk-text-repr-fallback\"><pre>SelectFromModel(estimator=XGBRegressor(base_score=None, booster=None,\n",
       "                                       callbacks=None, colsample_bylevel=None,\n",
       "                                       colsample_bynode=None,\n",
       "                                       colsample_bytree=0.29378036508860195,\n",
       "                                       device=None, early_stopping_rounds=None,\n",
       "                                       enable_categorical=True,\n",
       "                                       eval_metric=None, feature_types=None,\n",
       "                                       gamma=None, grow_policy=None,\n",
       "                                       importance_type=None,\n",
       "                                       interaction_constraints=None,\n",
       "                                       learning_rate=0.022673068248214003,\n",
       "                                       max_bin=None, max_cat_threshold=None,\n",
       "                                       max_cat_to_onehot=None,\n",
       "                                       max_delta_step=None, max_depth=9,\n",
       "                                       max_leaves=None, min_child_weight=14,\n",
       "                                       missing=nan, monotone_constraints=None,\n",
       "                                       multi_strategy=None, n_estimators=900,\n",
       "                                       n_jobs=None, num_parallel_tree=None,\n",
       "                                       random_state=None, ...))</pre><b>In a Jupyter environment, please rerun this cell to show the HTML representation or trust the notebook. <br />On GitHub, the HTML representation is unable to render, please try loading this page with nbviewer.org.</b></div><div class=\"sk-container\" hidden><div class=\"sk-item sk-dashed-wrapped\"><div class=\"sk-label-container\"><div class=\"sk-label sk-toggleable\"><input class=\"sk-toggleable__control sk-hidden--visually\" id=\"sk-estimator-id-7\" type=\"checkbox\" ><label for=\"sk-estimator-id-7\" class=\"sk-toggleable__label sk-toggleable__label-arrow\">SelectFromModel</label><div class=\"sk-toggleable__content\"><pre>SelectFromModel(estimator=XGBRegressor(base_score=None, booster=None,\n",
       "                                       callbacks=None, colsample_bylevel=None,\n",
       "                                       colsample_bynode=None,\n",
       "                                       colsample_bytree=0.29378036508860195,\n",
       "                                       device=None, early_stopping_rounds=None,\n",
       "                                       enable_categorical=True,\n",
       "                                       eval_metric=None, feature_types=None,\n",
       "                                       gamma=None, grow_policy=None,\n",
       "                                       importance_type=None,\n",
       "                                       interaction_constraints=None,\n",
       "                                       learning_rate=0.022673068248214003,\n",
       "                                       max_bin=None, max_cat_threshold=None,\n",
       "                                       max_cat_to_onehot=None,\n",
       "                                       max_delta_step=None, max_depth=9,\n",
       "                                       max_leaves=None, min_child_weight=14,\n",
       "                                       missing=nan, monotone_constraints=None,\n",
       "                                       multi_strategy=None, n_estimators=900,\n",
       "                                       n_jobs=None, num_parallel_tree=None,\n",
       "                                       random_state=None, ...))</pre></div></div></div><div class=\"sk-parallel\"><div class=\"sk-parallel-item\"><div class=\"sk-item\"><div class=\"sk-label-container\"><div class=\"sk-label sk-toggleable\"><input class=\"sk-toggleable__control sk-hidden--visually\" id=\"sk-estimator-id-8\" type=\"checkbox\" ><label for=\"sk-estimator-id-8\" class=\"sk-toggleable__label sk-toggleable__label-arrow\">estimator: XGBRegressor</label><div class=\"sk-toggleable__content\"><pre>XGBRegressor(base_score=None, booster=None, callbacks=None,\n",
       "             colsample_bylevel=None, colsample_bynode=None,\n",
       "             colsample_bytree=0.29378036508860195, device=None,\n",
       "             early_stopping_rounds=None, enable_categorical=True,\n",
       "             eval_metric=None, feature_types=None, gamma=None, grow_policy=None,\n",
       "             importance_type=None, interaction_constraints=None,\n",
       "             learning_rate=0.022673068248214003, max_bin=None,\n",
       "             max_cat_threshold=None, max_cat_to_onehot=None,\n",
       "             max_delta_step=None, max_depth=9, max_leaves=None,\n",
       "             min_child_weight=14, missing=nan, monotone_constraints=None,\n",
       "             multi_strategy=None, n_estimators=900, n_jobs=None,\n",
       "             num_parallel_tree=None, random_state=None, ...)</pre></div></div></div><div class=\"sk-serial\"><div class=\"sk-item\"><div class=\"sk-estimator sk-toggleable\"><input class=\"sk-toggleable__control sk-hidden--visually\" id=\"sk-estimator-id-9\" type=\"checkbox\" ><label for=\"sk-estimator-id-9\" class=\"sk-toggleable__label sk-toggleable__label-arrow\">XGBRegressor</label><div class=\"sk-toggleable__content\"><pre>XGBRegressor(base_score=None, booster=None, callbacks=None,\n",
       "             colsample_bylevel=None, colsample_bynode=None,\n",
       "             colsample_bytree=0.29378036508860195, device=None,\n",
       "             early_stopping_rounds=None, enable_categorical=True,\n",
       "             eval_metric=None, feature_types=None, gamma=None, grow_policy=None,\n",
       "             importance_type=None, interaction_constraints=None,\n",
       "             learning_rate=0.022673068248214003, max_bin=None,\n",
       "             max_cat_threshold=None, max_cat_to_onehot=None,\n",
       "             max_delta_step=None, max_depth=9, max_leaves=None,\n",
       "             min_child_weight=14, missing=nan, monotone_constraints=None,\n",
       "             multi_strategy=None, n_estimators=900, n_jobs=None,\n",
       "             num_parallel_tree=None, random_state=None, ...)</pre></div></div></div></div></div></div></div></div></div></div>"
      ],
      "text/plain": [
       "SelectFromModel(estimator=XGBRegressor(base_score=None, booster=None,\n",
       "                                       callbacks=None, colsample_bylevel=None,\n",
       "                                       colsample_bynode=None,\n",
       "                                       colsample_bytree=0.29378036508860195,\n",
       "                                       device=None, early_stopping_rounds=None,\n",
       "                                       enable_categorical=True,\n",
       "                                       eval_metric=None, feature_types=None,\n",
       "                                       gamma=None, grow_policy=None,\n",
       "                                       importance_type=None,\n",
       "                                       interaction_constraints=None,\n",
       "                                       learning_rate=0.022673068248214003,\n",
       "                                       max_bin=None, max_cat_threshold=None,\n",
       "                                       max_cat_to_onehot=None,\n",
       "                                       max_delta_step=None, max_depth=9,\n",
       "                                       max_leaves=None, min_child_weight=14,\n",
       "                                       missing=nan, monotone_constraints=None,\n",
       "                                       multi_strategy=None, n_estimators=900,\n",
       "                                       n_jobs=None, num_parallel_tree=None,\n",
       "                                       random_state=None, ...))"
      ]
     },
     "execution_count": 75,
     "metadata": {},
     "output_type": "execute_result"
    }
   ],
   "source": [
    "categorical_columns = X_train.drop(features_to_drop, axis=1).select_dtypes(include='category').columns.tolist()\n",
    "\n",
    "sfm = SelectFromModel(estimator=XGBRegressor(**params))\n",
    "sfm.fit(X_train.drop(features_to_drop, axis=1), y_train[target])"
   ]
  },
  {
   "cell_type": "code",
   "execution_count": 76,
   "id": "76c14f3f-27c7-40c0-960d-d069b7f6a565",
   "metadata": {},
   "outputs": [
    {
     "data": {
      "text/plain": [
       "['customer_city',\n",
       " 'customer_state',\n",
       " 'customer_lat',\n",
       " 'customer_lng',\n",
       " 'seller_geolocation_state_mode',\n",
       " 'distance_customer_seller_min',\n",
       " 'freight_value_mean',\n",
       " 'order_approved_at_month',\n",
       " 'customer_city_ce',\n",
       " 'customer_state_ce',\n",
       " 'seller_geolocation_city_mode_ce',\n",
       " 'customer_state_te',\n",
       " 'seller_geolocation_state_mode_te',\n",
       " 'order_approved_at_month_cos']"
      ]
     },
     "execution_count": 76,
     "metadata": {},
     "output_type": "execute_result"
    }
   ],
   "source": [
    "list_selected_features = X_train.drop(features_to_drop, axis=1).loc[:, sfm.get_support()].columns.tolist()\n",
    "list_selected_features"
   ]
  },
  {
   "cell_type": "code",
   "execution_count": 78,
   "id": "fe8324f2-8352-4a5e-9f77-1a89aa8c1d94",
   "metadata": {},
   "outputs": [
    {
     "name": "stdout",
     "output_type": "stream",
     "text": [
      "R2: 0.46893962125228195; RMSE: 7.327750293629124; MAE: 4.555302243796675; MAPE: 23000141054901.434\n"
     ]
    }
   ],
   "source": [
    "xgb = XGBRegressor(**params)\n",
    "xgb.fit(X_train[list_selected_features], y_train[target], eval_set=[(X_valid[list_selected_features], y_valid[target])], verbose=False)\n",
    "\n",
    "y_train['pred'] = xgb.predict(X_train[list_selected_features])\n",
    "get_metrics(y_train[target], y_train['pred'])"
   ]
  },
  {
   "cell_type": "code",
   "execution_count": 79,
   "id": "e3fa26d4-759c-4093-ac92-d97a8f1ff33e",
   "metadata": {},
   "outputs": [
    {
     "name": "stdout",
     "output_type": "stream",
     "text": [
      "R2: 0.30451018696667753; RMSE: 8.206973297091318; MAE: 5.11720994253146; MAPE: 21260864626297.05\n"
     ]
    }
   ],
   "source": [
    "y_valid['pred'] = xgb.predict(X_valid[list_selected_features])\n",
    "get_metrics(y_valid[target], y_valid['pred'])"
   ]
  },
  {
   "cell_type": "code",
   "execution_count": 84,
   "id": "65f830a0-029c-4e07-9318-703c7e99f4c4",
   "metadata": {},
   "outputs": [
    {
     "name": "stdout",
     "output_type": "stream",
     "text": [
      "R2: -0.034423400329695486; RMSE: 5.9060659748269275; MAE: 4.398963032964288; MAPE: 109657702666830.3\n"
     ]
    }
   ],
   "source": [
    "y_oot['pred'] = xgb.predict(X_oot[list_selected_features])\n",
    "get_metrics(y_oot[target], y_oot['pred'])"
   ]
  },
  {
   "cell_type": "markdown",
   "id": "674e73d2-ca1d-428a-8823-f3035bf4fe7c",
   "metadata": {},
   "source": [
    "### Second Hyperparameter Tuning"
   ]
  },
  {
   "cell_type": "code",
   "execution_count": 85,
   "id": "2cbc3d55-53ba-47cd-b2bf-7b0c166bc73a",
   "metadata": {},
   "outputs": [
    {
     "name": "stdout",
     "output_type": "stream",
     "text": [
      "Best hyperparameters: {'n_estimators': 800, 'learning_rate': 0.007674734855922525, 'max_depth': 10, 'subsample': 0.756637970016439, 'colsample_bytree': 0.5108703994958398, 'min_child_weight': 17}\n",
      "Best RMSE: 8.161264944641328\n"
     ]
    }
   ],
   "source": [
    "def objective(trial):\n",
    "    \n",
    "    params = {\n",
    "        \"enable_categorical\": True,\n",
    "        \"n_estimators\": trial.suggest_int(\"n_estimators\", 100, 1100, 100),\n",
    "        \"learning_rate\": trial.suggest_float(\"learning_rate\", 1e-3, 0.1, log=True),\n",
    "        \"max_depth\": trial.suggest_int(\"max_depth\", 1, 10),\n",
    "        \"subsample\": trial.suggest_float(\"subsample\", 0.05, 1.0),\n",
    "        \"colsample_bytree\": trial.suggest_float(\"colsample_bytree\", 0.05, 1.0),\n",
    "        \"min_child_weight\": trial.suggest_int(\"min_child_weight\", 1, 20)}\n",
    "\n",
    "    model = XGBRegressor(**params)\n",
    "    model.fit(X_train[list_selected_features], y_train[target], eval_set=[(X_valid[list_selected_features], y_valid[target])], verbose=False)\n",
    "    \n",
    "    pred = model.predict(X_valid[list_selected_features])\n",
    "    \n",
    "    rmse = mean_squared_error(y_valid[target], pred, squared=False)\n",
    "    \n",
    "    return rmse\n",
    "\n",
    "\n",
    "optuna.logging.set_verbosity(optuna.logging.WARNING)\n",
    "study = optuna.create_study(direction='minimize')\n",
    "study.optimize(objective, n_trials=50)\n",
    "\n",
    "print('Best hyperparameters:', study.best_params)\n",
    "print('Best RMSE:', study.best_value)"
   ]
  },
  {
   "cell_type": "code",
   "execution_count": 86,
   "id": "5d24ad7d-696f-4bf2-9a70-e40fb1cd438a",
   "metadata": {},
   "outputs": [
    {
     "name": "stdout",
     "output_type": "stream",
     "text": [
      "R2: 0.44348514445448484; RMSE: 7.501309628412448; MAE: 4.62165278206962; MAPE: 23232413698970.703\n"
     ]
    }
   ],
   "source": [
    "params = {\n",
    "    'enable_categorical': True,\n",
    "    'n_estimators': 800, \n",
    "    'learning_rate': 0.007674734855922525, \n",
    "    'max_depth': 10, \n",
    "    'subsample': 0.756637970016439, \n",
    "    'colsample_bytree': 0.5108703994958398, \n",
    "    'min_child_weight': 17}\n",
    "\n",
    "xgb = XGBRegressor(**params)\n",
    "xgb.fit(X_train[list_selected_features], y_train[target], eval_set=[(X_valid[list_selected_features], y_valid[target])], verbose=False)\n",
    "\n",
    "y_train['pred'] = xgb.predict(X_train[list_selected_features])\n",
    "get_metrics(y_train[target], y_train['pred'])"
   ]
  },
  {
   "cell_type": "code",
   "execution_count": 87,
   "id": "d5dc55a4-3066-4f42-afb7-1f4e1c5c0b39",
   "metadata": {},
   "outputs": [
    {
     "name": "stdout",
     "output_type": "stream",
     "text": [
      "R2: 0.3122356094212748; RMSE: 8.161264944641328; MAE: 5.0762969250529055; MAPE: 20974213757951.164\n"
     ]
    }
   ],
   "source": [
    "y_valid['pred'] = xgb.predict(X_valid[list_selected_features])\n",
    "get_metrics(y_valid[target], y_valid['pred'])"
   ]
  },
  {
   "cell_type": "code",
   "execution_count": 88,
   "id": "32f97624-b5e5-4d96-9cb4-bf9bedfa8d4a",
   "metadata": {},
   "outputs": [
    {
     "name": "stdout",
     "output_type": "stream",
     "text": [
      "R2: -0.002247653541174177; RMSE: 5.8134862536813365; MAE: 4.379636402688398; MAPE: 113757715202889.08\n"
     ]
    }
   ],
   "source": [
    "y_oot['pred'] = xgb.predict(X_oot[list_selected_features])\n",
    "get_metrics(y_oot[target], y_oot['pred'])"
   ]
  },
  {
   "cell_type": "markdown",
   "id": "91090dd5-31f4-4237-9a91-e9a0d90d06d9",
   "metadata": {},
   "source": [
    "# Result Analysis"
   ]
  },
  {
   "cell_type": "markdown",
   "id": "2ad27fcf-547c-42a5-8c1b-2c00f803f055",
   "metadata": {},
   "source": [
    "## Final Model"
   ]
  },
  {
   "cell_type": "code",
   "execution_count": 92,
   "id": "23707fdc-2dcd-4c01-a965-20f92b9a5cf4",
   "metadata": {},
   "outputs": [
    {
     "name": "stdout",
     "output_type": "stream",
     "text": [
      "R2: 0.5348968373281158; RMSE: 6.857619076069917; MAE: 4.105505814755573; MAPE: 18690993962939.848\n"
     ]
    }
   ],
   "source": [
    "list_selected_columns = [\n",
    "    'customer_lat',\n",
    "    'customer_lng',\n",
    "    'distance_customer_seller_min',\n",
    "    'payment_value_median',\n",
    "    'freight_value_q25',\n",
    "    'product_name_lenght_q25',\n",
    "    'product_description_lenght_max',\n",
    "    'product_weight_g_q25',\n",
    "    'product_length_cm_q25',\n",
    "    'product_height_cm_q25',\n",
    "    'product_width_cm_mean',\n",
    "    'order_purchase_timestamp_second',\n",
    "    'order_purchase_timestamp_minute',\n",
    "    'order_approved_at_second',\n",
    "    'order_approved_at_minute',\n",
    "    'order_approved_at_month',\n",
    "    'order_purchase_timestamp_second_sin',\n",
    "    'order_purchase_timestamp_second_cos',\n",
    "    'order_purchase_timestamp_minute_sin',\n",
    "    'order_purchase_timestamp_minute_cos',\n",
    "    'order_purchase_timestamp_day_sin',\n",
    "    'order_purchase_timestamp_day_cos',\n",
    "    'order_approved_at_second_cos',\n",
    "    'order_approved_at_minute_cos',\n",
    "    'order_approved_at_day_sin',\n",
    "    'order_approved_at_month_cos']\n",
    "\n",
    "params = {\n",
    "    'objective': 'regression',\n",
    "    'metric': 'rmse',\n",
    "    'verbosity': -1,\n",
    "    'bagging_freq': 1,\n",
    "    'n_estimators': 900, \n",
    "    'learning_rate': 0.008118480150159538, \n",
    "    'num_leaves': 688, \n",
    "    'subsample': 0.9353531783366564, \n",
    "    'colsample_bytree': 0.7738499976876134, \n",
    "    'min_data_in_leaf': 59}\n",
    "\n",
    "lgbm = LGBMRegressor(**params)\n",
    "lgbm.fit(X_train[list_selected_features], y_train[target], eval_set=[(X_valid[list_selected_features], y_valid[target])])\n",
    "\n",
    "y_train['pred'] = lgbm.predict(X_train[list_selected_features])\n",
    "get_metrics(y_train[target], y_train['pred'])"
   ]
  },
  {
   "cell_type": "code",
   "execution_count": 93,
   "id": "d49ddda3-1f27-4f00-924a-94678ad4d47b",
   "metadata": {},
   "outputs": [
    {
     "name": "stdout",
     "output_type": "stream",
     "text": [
      "R2: 0.3017741896105808; RMSE: 8.223100217192222; MAE: 5.127473484280988; MAPE: 19567894489053.703\n"
     ]
    }
   ],
   "source": [
    "y_valid['pred'] = lgbm.predict(X_valid[list_selected_features])\n",
    "get_metrics(y_valid[target], y_valid['pred'])"
   ]
  },
  {
   "cell_type": "code",
   "execution_count": 94,
   "id": "c1119c2d-8e1e-449c-8fef-89af44f5946a",
   "metadata": {},
   "outputs": [
    {
     "name": "stdout",
     "output_type": "stream",
     "text": [
      "R2: -0.03659353703464929; RMSE: 5.91225795354172; MAE: 4.426038874551464; MAPE: 112669398398553.16\n"
     ]
    }
   ],
   "source": [
    "y_oot['pred'] = lgbm.predict(X_oot[list_selected_features])\n",
    "get_metrics(y_oot[target], y_oot['pred'])"
   ]
  },
  {
   "cell_type": "markdown",
   "id": "0f1320f6-b798-440d-abd5-55cc002f997f",
   "metadata": {},
   "source": [
    "### Feature Importances"
   ]
  },
  {
   "cell_type": "code",
   "execution_count": 98,
   "id": "450c6d1a-28a5-46cd-94a9-94bf2c40b357",
   "metadata": {},
   "outputs": [
    {
     "data": {
      "image/png": "[encoded data removed]",
      "text/plain": [
       "<Figure size 640x480 with 1 Axes>"
      ]
     },
     "metadata": {},
     "output_type": "display_data"
    }
   ],
   "source": [
    "imp = pd.DataFrame(lgbm.feature_importances_, X_train[list_selected_features].columns).reset_index()\n",
    "imp.columns = [\"var\", \"imp\"]\n",
    "imp = imp.sort_values(\"imp\", ascending=False)\n",
    "\n",
    "sns.barplot(x=\"imp\", y=\"var\", color=\"#006e9cff\", data=imp.iloc[:30])\n",
    "\n",
    "plt.title(f\"Importância das variáveis\")\n",
    "plt.show()"
   ]
  },
  {
   "cell_type": "markdown",
   "id": "ce6161e6-7aa3-44fb-a2e9-da76be50228c",
   "metadata": {},
   "source": [
    "### Shap Values"
   ]
  },
  {
   "cell_type": "code",
   "execution_count": 96,
   "id": "33b47991-5e49-4ff4-9297-a574d96ff20f",
   "metadata": {},
   "outputs": [],
   "source": [
    "explainer = shap.TreeExplainer(lgbm)\n",
    "shap_values = explainer.shap_values(X_train[list_selected_features])"
   ]
  },
  {
   "cell_type": "code",
   "execution_count": 97,
   "id": "05f50c33-5be4-4143-838d-c1db42110bbe",
   "metadata": {},
   "outputs": [
    {
     "name": "stderr",
     "output_type": "stream",
     "text": [
      "No data for colormapping provided via 'c'. Parameters 'vmin', 'vmax' will be ignored\n"
     ]
    },
    {
     "data": {
      "image/png": "[encoded data removed]",
      "text/plain": [
       "<Figure size 1600x1200 with 2 Axes>"
      ]
     },
     "metadata": {},
     "output_type": "display_data"
    },
    {
     "data": {
      "text/html": [
       "<div>\n",
       "<style scoped>\n",
       "    .dataframe tbody tr th:only-of-type {\n",
       "        vertical-align: middle;\n",
       "    }\n",
       "\n",
       "    .dataframe tbody tr th {\n",
       "        vertical-align: top;\n",
       "    }\n",
       "\n",
       "    .dataframe thead th {\n",
       "        text-align: right;\n",
       "    }\n",
       "</style>\n",
       "<table border=\"1\" class=\"dataframe\">\n",
       "  <thead>\n",
       "    <tr style=\"text-align: right;\">\n",
       "      <th></th>\n",
       "      <th>index</th>\n",
       "      <th>impact</th>\n",
       "    </tr>\n",
       "  </thead>\n",
       "  <tbody>\n",
       "    <tr>\n",
       "      <th>11</th>\n",
       "      <td>customer_state_te</td>\n",
       "      <td>1.944010</td>\n",
       "    </tr>\n",
       "    <tr>\n",
       "      <th>5</th>\n",
       "      <td>distance_customer_seller_min</td>\n",
       "      <td>1.578101</td>\n",
       "    </tr>\n",
       "    <tr>\n",
       "      <th>13</th>\n",
       "      <td>order_approved_at_month_cos</td>\n",
       "      <td>1.184353</td>\n",
       "    </tr>\n",
       "    <tr>\n",
       "      <th>6</th>\n",
       "      <td>freight_value_mean</td>\n",
       "      <td>0.895229</td>\n",
       "    </tr>\n",
       "    <tr>\n",
       "      <th>7</th>\n",
       "      <td>order_approved_at_month</td>\n",
       "      <td>0.640833</td>\n",
       "    </tr>\n",
       "    <tr>\n",
       "      <th>2</th>\n",
       "      <td>customer_lat</td>\n",
       "      <td>0.583192</td>\n",
       "    </tr>\n",
       "    <tr>\n",
       "      <th>3</th>\n",
       "      <td>customer_lng</td>\n",
       "      <td>0.535866</td>\n",
       "    </tr>\n",
       "    <tr>\n",
       "      <th>1</th>\n",
       "      <td>customer_state</td>\n",
       "      <td>0.519959</td>\n",
       "    </tr>\n",
       "    <tr>\n",
       "      <th>12</th>\n",
       "      <td>seller_geolocation_state_mode_te</td>\n",
       "      <td>0.208832</td>\n",
       "    </tr>\n",
       "    <tr>\n",
       "      <th>10</th>\n",
       "      <td>seller_geolocation_city_mode_ce</td>\n",
       "      <td>0.205723</td>\n",
       "    </tr>\n",
       "    <tr>\n",
       "      <th>9</th>\n",
       "      <td>customer_state_ce</td>\n",
       "      <td>0.199782</td>\n",
       "    </tr>\n",
       "    <tr>\n",
       "      <th>4</th>\n",
       "      <td>seller_geolocation_state_mode</td>\n",
       "      <td>0.176576</td>\n",
       "    </tr>\n",
       "    <tr>\n",
       "      <th>0</th>\n",
       "      <td>customer_city</td>\n",
       "      <td>0.087260</td>\n",
       "    </tr>\n",
       "    <tr>\n",
       "      <th>8</th>\n",
       "      <td>customer_city_ce</td>\n",
       "      <td>0.018115</td>\n",
       "    </tr>\n",
       "  </tbody>\n",
       "</table>\n",
       "</div>"
      ],
      "text/plain": [
       "                               index    impact\n",
       "11                 customer_state_te  1.944010\n",
       "5       distance_customer_seller_min  1.578101\n",
       "13       order_approved_at_month_cos  1.184353\n",
       "6                 freight_value_mean  0.895229\n",
       "7            order_approved_at_month  0.640833\n",
       "2                       customer_lat  0.583192\n",
       "3                       customer_lng  0.535866\n",
       "1                     customer_state  0.519959\n",
       "12  seller_geolocation_state_mode_te  0.208832\n",
       "10   seller_geolocation_city_mode_ce  0.205723\n",
       "9                  customer_state_ce  0.199782\n",
       "4      seller_geolocation_state_mode  0.176576\n",
       "0                      customer_city  0.087260\n",
       "8                   customer_city_ce  0.018115"
      ]
     },
     "metadata": {},
     "output_type": "display_data"
    }
   ],
   "source": [
    "shap.summary_plot(shap_values, X_train[list_selected_features], plot_size=(16, 12))\n",
    "\n",
    "shap_df = pd.DataFrame(np.abs(shap_values), columns=list_selected_features)\n",
    "shap_df = (\n",
    "    pd.DataFrame(shap_df.mean(), columns=[\"impact\"]).reset_index()\n",
    "    .rename(columns={\"level_0\": \"var\"})\n",
    "    .sort_values(by=[\"impact\"], ascending=False))\n",
    "\n",
    "display(shap_df.head(15))"
   ]
  },
  {
   "cell_type": "markdown",
   "id": "a581ae33-27e1-462b-9cbc-f6ce2d1f174c",
   "metadata": {},
   "source": [
    "## Analysis of Estimated Values"
   ]
  },
  {
   "cell_type": "markdown",
   "id": "5b8514a5-4f93-4284-a26a-966872450d4a",
   "metadata": {},
   "source": [
    "### Train Values"
   ]
  },
  {
   "cell_type": "code",
   "execution_count": 99,
   "id": "7451e589-ac78-458a-9f3c-8a27076a882e",
   "metadata": {},
   "outputs": [
    {
     "name": "stdout",
     "output_type": "stream",
     "text": [
      "R2: -1.2710958645968153; RMSE: 15.15362181073755; MAE: 12.798987749467994; MAPE: 63632846865898.91\n"
     ]
    }
   ],
   "source": [
    "get_metrics(y_train[target], y_train['estimated_delivery_in_days'])"
   ]
  },
  {
   "cell_type": "code",
   "execution_count": 100,
   "id": "bbabfa95-8e44-4a9a-b892-898b4a86f32f",
   "metadata": {},
   "outputs": [
    {
     "name": "stdout",
     "output_type": "stream",
     "text": [
      "R2: 0.5348968373281158; RMSE: 6.857619076069917; MAE: 4.105505814755573; MAPE: 18690993962939.848\n"
     ]
    }
   ],
   "source": [
    "get_metrics(y_train[target], y_train['pred'])"
   ]
  },
  {
   "cell_type": "code",
   "execution_count": 101,
   "id": "15327256-0cd4-4b94-bde3-87c663b36c8b",
   "metadata": {},
   "outputs": [
    {
     "data": {
      "image/png": "[encoded data removed]",
      "text/plain": [
       "<Figure size 640x480 with 1 Axes>"
      ]
     },
     "metadata": {},
     "output_type": "display_data"
    }
   ],
   "source": [
    "y_train.plot(kind='box');"
   ]
  },
  {
   "cell_type": "markdown",
   "id": "2fe58a97-0f8d-4343-bdcf-9cf45570d23c",
   "metadata": {},
   "source": [
    "### Valid Values"
   ]
  },
  {
   "cell_type": "code",
   "execution_count": 102,
   "id": "2b835c75-1592-4541-a84e-c5a5dfa61b62",
   "metadata": {},
   "outputs": [
    {
     "name": "stdout",
     "output_type": "stream",
     "text": [
      "R2: -1.3023139893957243; RMSE: 14.932066313490298; MAE: 12.686517203798848; MAPE: 58722788228598.95\n"
     ]
    }
   ],
   "source": [
    "get_metrics(y_valid[target], y_valid['estimated_delivery_in_days'])"
   ]
  },
  {
   "cell_type": "code",
   "execution_count": 103,
   "id": "b3463997-5aac-4f9e-bf52-cbe0fe2610b0",
   "metadata": {},
   "outputs": [
    {
     "name": "stdout",
     "output_type": "stream",
     "text": [
      "R2: 0.3017741896105808; RMSE: 8.223100217192222; MAE: 5.127473484280988; MAPE: 19567894489053.703\n"
     ]
    }
   ],
   "source": [
    "get_metrics(y_valid[target], y_valid['pred'])"
   ]
  },
  {
   "cell_type": "code",
   "execution_count": 104,
   "id": "ba0c2b2d-14c9-4dd1-9a29-34966e0e19b4",
   "metadata": {},
   "outputs": [
    {
     "data": {
      "image/png": "[encoded data removed]",
      "text/plain": [
       "<Figure size 640x480 with 1 Axes>"
      ]
     },
     "metadata": {},
     "output_type": "display_data"
    }
   ],
   "source": [
    "y_valid.plot(kind='box');"
   ]
  },
  {
   "cell_type": "markdown",
   "id": "65b00f07-47ef-4022-991e-f5e42fd49a9c",
   "metadata": {},
   "source": [
    "### OoT Values"
   ]
  },
  {
   "cell_type": "code",
   "execution_count": 105,
   "id": "0aa23d91-6d09-44d2-aec0-3cf4822da285",
   "metadata": {},
   "outputs": [
    {
     "name": "stdout",
     "output_type": "stream",
     "text": [
      "R2: -6.096547120243494; RMSE: 15.469371569468713; MAE: 12.755738321776057; MAPE: 243542505248334.34\n"
     ]
    }
   ],
   "source": [
    "get_metrics(y_oot[target], y_oot['estimated_delivery_in_days'])"
   ]
  },
  {
   "cell_type": "code",
   "execution_count": 106,
   "id": "f68023cd-36c4-4c65-aae1-3f3aed1923d3",
   "metadata": {},
   "outputs": [
    {
     "name": "stdout",
     "output_type": "stream",
     "text": [
      "R2: -0.03659353703464929; RMSE: 5.91225795354172; MAE: 4.426038874551464; MAPE: 112669398398553.16\n"
     ]
    }
   ],
   "source": [
    "get_metrics(y_oot[target], y_oot['pred'])"
   ]
  },
  {
   "cell_type": "code",
   "execution_count": 107,
   "id": "7fe91fef-3444-4536-8800-e766a11ea05b",
   "metadata": {},
   "outputs": [
    {
     "data": {
      "image/png": "[encoded data removed]",
      "text/plain": [
       "<Figure size 640x480 with 1 Axes>"
      ]
     },
     "metadata": {},
     "output_type": "display_data"
    }
   ],
   "source": [
    "y_oot.plot(kind='box');"
   ]
  },
  {
   "cell_type": "code",
   "execution_count": null,
   "id": "f8f8829d-59da-434b-9735-439d35908892",
   "metadata": {},
   "outputs": [],
   "source": []
  },
  {
   "cell_type": "code",
   "execution_count": null,
   "id": "4bd8b0af-3d7f-422b-affa-43582d4dcd50",
   "metadata": {},
   "outputs": [],
   "source": []
  },
  {
   "cell_type": "code",
   "execution_count": null,
   "id": "a000c9ad-aa07-49ca-8b11-cb2f55e290c4",
   "metadata": {},
   "outputs": [],
   "source": []
  }
 ],
 "metadata": {
  "kernelspec": {
   "display_name": "Python 3 (ipykernel)",
   "language": "python",
   "name": "python3"
  },
  "language_info": {
   "codemirror_mode": {
    "name": "ipython",
    "version": 3
   },
   "file_extension": ".py",
   "mimetype": "text/x-python",
   "name": "python",
   "nbconvert_exporter": "python",
   "pygments_lexer": "ipython3",
   "version": "3.9.17"
  }
 },
 "nbformat": 4,
 "nbformat_minor": 5
}
